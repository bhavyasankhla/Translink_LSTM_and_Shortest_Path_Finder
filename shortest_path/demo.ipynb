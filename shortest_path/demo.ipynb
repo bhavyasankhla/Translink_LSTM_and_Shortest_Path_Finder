{
 "cells": [
  {
   "cell_type": "markdown",
   "metadata": {},
   "source": [
    "### **Demo File for Pathfinding in GTFS**\n",
    "\n",
    "This file demoes the usage of the path-finding Spark Job in `raptor_celery.py`\n",
    "\n",
    "The algorithm is based on the [RAPTOR algorithm](https://www.microsoft.com/en-us/research/wp-content/uploads/2012/01/raptor_alenex.pdf) researched at Microsoft for finding the earliest trip in a transit schedule. While it wasn't possible to replicate the exact algorithm, the idea is the same. \n",
    "\n",
    "Basic Algorithm: \n",
    "\n",
    "1. Initialize the origin with `Earliest Arrival Time` to 0 for round 1, and `inifinity` for all other stops\n",
    "2. Initialize the improved boolean to True for origin and False for all others\n",
    "3. Start a loop from `0` to `max_transfers`\n",
    "   1. Find all the improved stops from the previous `round`\n",
    "   2. For each route from the improved stops find the trips that can occur in the current number of transfers\n",
    "   3. For each stop in that trip, check how long it takes to arrive and compare it with a previous arrival time, if any\n",
    "   4. For each stop in that trip, check if another stop is close enough to walk to and if the arrival time is faster that way\n",
    "   5. Store the parent trips and the round where improvement last occured\n",
    "   6. Increment the number of transfers and repeat the process\n",
    "4. Use all the stored information to rebuild the path for the destination by looping backwards from it\n"
   ]
  },
  {
   "cell_type": "markdown",
   "metadata": {},
   "source": [
    "### **Example from the paper**\n",
    "\n",
    "![](algorithm_example.png)"
   ]
  },
  {
   "cell_type": "markdown",
   "metadata": {},
   "source": [
    "### **Commands to execute to run this demo**\n",
    "1. `pip3 install -r requirements.txt`\n",
    "2. `hdfs dfs -put data gtfs_data`\n",
    "3. `spark-submit preprocess.py gtfs_data preprocessed_data 24`\n",
    "4. `spark-submit --master=local[*] raptor_celery.py`\n",
    "\n",
    "If there are no issues in the above commands, you should be able to run each cell in order.\n",
    "\n",
    "**Note:**  \n",
    "1. Preprocessing takes about 20 minutes due to the distance being calculated using a UDF for every single stop pair but it only needs to be done once.\n",
    "2. If any cell fails, especially with an error such as `\"Raptor not registered\"` or `\"run() needs 6 positional arguments but received 7\"`, kill all processes since there's a Celery task running in the background that has not died correctly.\n",
    "3. If any Query Example cell runs, but does not display the output, please run it again.\n",
    "4. This notebook can only run on the cluster since rabbitmq and celery is already set up there with the appropriate URLs.\n"
   ]
  },
  {
   "cell_type": "markdown",
   "metadata": {},
   "source": [
    "### **Demo Code**"
   ]
  },
  {
   "cell_type": "markdown",
   "metadata": {},
   "source": [
    "**Load the `trips.txt` data file to display the final journey information provided by the Spark Job**"
   ]
  },
  {
   "cell_type": "code",
   "execution_count": 8,
   "metadata": {},
   "outputs": [],
   "source": [
    "\n",
    "def load_trips():\n",
    "    with open('data/trips.txt', 'r') as f:\n",
    "        input = f.read()\n",
    "\n",
    "    input = input.strip().split('\\n')\n",
    "    input = [x.split(',') for x in input]\n",
    "    header = input[:1][0]\n",
    "    rows = input[1:]\n",
    "    objects = [dict(zip(header, x)) for x in rows]\n",
    "    trip_dictionary = {item['trip_id']: item for item in objects}\n",
    "    return trip_dictionary\n",
    "\n",
    "trips = load_trips()"
   ]
  },
  {
   "cell_type": "markdown",
   "metadata": {},
   "source": [
    "**Load the `stops.txt` data file to display the final journey information provided by the Spark Job**"
   ]
  },
  {
   "cell_type": "code",
   "execution_count": 9,
   "metadata": {},
   "outputs": [],
   "source": [
    "def load_stops():\n",
    "    with open('data/stops.txt', 'r') as f:\n",
    "        input = f.read()\n",
    "\n",
    "    input = input.strip().split('\\n')\n",
    "    input = [x.split(',') for x in input]\n",
    "    header = input[:1][0]\n",
    "    rows = input[1:]\n",
    "    objects = [dict(zip(header, x)) for x in rows]\n",
    "    stop_dictionary = {item['stop_name']: int(item['stop_id']) for item in objects}\n",
    "    return stop_dictionary\n",
    "    \n",
    "stops = load_stops()"
   ]
  },
  {
   "cell_type": "markdown",
   "metadata": {},
   "source": [
    "**Get the stops matching the users query with a simple string search returning N matching values. We sort by length and then slice to give preference to stops that are more of an exact match to the user's query.**"
   ]
  },
  {
   "cell_type": "code",
   "execution_count": 10,
   "metadata": {},
   "outputs": [],
   "source": [
    "def get_closest_stop(search, limit = 3):\n",
    "    search = search.lower()\n",
    "    stop_names = list(stops.keys())\n",
    "    check_stops = [stop.lower() for stop in stop_names]\n",
    "    check_stops = [i if search in stop else 0 for i, stop in enumerate(check_stops)]\n",
    "    closest = list(filter(lambda stop: stop, check_stops))\n",
    "    closest = [stop_names[i] for i in closest]\n",
    "    closest.sort(key=lambda s: len(s))\n",
    "    closest_names = closest[:limit]\n",
    "    closest = [stops[name] for name in closest_names]\n",
    "    return closest, closest_names"
   ]
  },
  {
   "cell_type": "markdown",
   "metadata": {},
   "source": [
    "**Calls the Spark Job with the required parameters using Celery and returns the result.**"
   ]
  },
  {
   "cell_type": "code",
   "execution_count": 11,
   "metadata": {},
   "outputs": [],
   "source": [
    "from raptor_celery import tasks\n",
    "from termcolor import colored\n",
    "\n",
    "def get_path(day, departure_time, origin, destination):\n",
    "    origins, origin_names = get_closest_stop(origin, 3)\n",
    "    destinations, destination_names = get_closest_stop(destination, 10)\n",
    "    print(f\"{colored('Departure Details', attrs=['bold'])} - {day.title()} at {departure_time}\")\n",
    "    print(f\"{colored('Origin Stations Found', attrs=['bold'])} - {', '.join(origin_names)}\")\n",
    "    print(f\"{colored('Destination Stations Found', attrs=['bold'])} - {', '.join(destination_names)}\\n\")\n",
    "    results = []\n",
    "    for i, o in enumerate(origins):  \n",
    "        res = tasks.delay(day, departure_time, o, destinations, 'preprocessed_data')\n",
    "        result = res.get()\n",
    "        results.append((origin_names[i], result))\n",
    "    return results"
   ]
  },
  {
   "cell_type": "markdown",
   "metadata": {},
   "source": [
    "**Print the journey information given by Spark in a more human-readable format.**"
   ]
  },
  {
   "cell_type": "code",
   "execution_count": 12,
   "metadata": {},
   "outputs": [],
   "source": [
    "from operator import itemgetter\n",
    "from termcolor import colored\n",
    "\n",
    "def show_journey_information(journeys):\n",
    "    if(not journeys or len(journeys) == 0):\n",
    "        print(\"Sorry, no journey was found within the given number of transfers.\")\n",
    "        return\n",
    "    journeys = sorted(journeys, key=itemgetter(1))[:3]\n",
    "    for i, journey in enumerate(journeys):\n",
    "        journey_duration = journey[1]\n",
    "        trip_ids = journey[3]\n",
    "        trip_ids = list(filter(lambda x: x != None, trip_ids))\n",
    "        trip_transfers = sum([0 if \"W\" in trip_id else 1 for trip_id in trip_ids])\n",
    "        stop_ids = journey[5]\n",
    "        stop_ids = list(filter(lambda x: x != None, stop_ids))\n",
    "        plural = \"s\" if trip_transfers > 1 else \"\"\n",
    "        if(not i):\n",
    "            print(colored(f\"Journey {i + 1}: {journey_duration} minutes, {trip_transfers} transfer{plural}\", \"green\", attrs=['bold']))\n",
    "        else:\n",
    "            print(f\"Journey {i + 1}: {journey_duration} minutes, {trip_transfers} transfer{plural}\")\n",
    "        for j, trip_id in enumerate(trip_ids):\n",
    "            if(\"W\" in trip_id):\n",
    "                method = \"Walk\"\n",
    "            else:\n",
    "                method = trips[trip_id]['trip_headsign']\n",
    "            print(f\"Trip {j + 1}: {colored(method, 'yellow')} from {colored(stop_ids[j], 'blue')} to {colored(stop_ids[j+1], 'blue')}\")\n",
    "        print(\"\")"
   ]
  },
  {
   "cell_type": "markdown",
   "metadata": {},
   "source": [
    "**Get all the journeys that match the user's query and display them.**"
   ]
  },
  {
   "cell_type": "code",
   "execution_count": 13,
   "metadata": {},
   "outputs": [],
   "source": [
    "from termcolor import colored\n",
    "\n",
    "def get_journeys(day, departure_time, origin, destination):\n",
    "    paths = get_path(day, departure_time, origin, destination)\n",
    "    paths = list(filter(lambda p: len(p[1]), paths))\n",
    "    if(not len(paths)):\n",
    "        print(\"Sorry, no journey was found within the given number of transfers.\")\n",
    "    print(\"-----------------------------------------------------\")\n",
    "    for path in paths:\n",
    "        print(f\"Journeys originating from {colored(path[0], 'red', attrs=['bold'])}\")\n",
    "        show_journey_information(path[1])\n",
    "        print(\"-----------------------------------------------------\")"
   ]
  },
  {
   "cell_type": "markdown",
   "metadata": {},
   "source": [
    "**Query 1:** From Holdom Skytrain Station to SFU"
   ]
  },
  {
   "cell_type": "code",
   "execution_count": 24,
   "metadata": {},
   "outputs": [
    {
     "name": "stdout",
     "output_type": "stream",
     "text": [
      "\u001b[1mDeparture Details\u001b[0m - Monday at 14:30\n",
      "\u001b[1mOrigin Stations Found\u001b[0m - Holdom Station, Holdom Station @ Platform 1, Holdom Station @ Platform 2\n",
      "\u001b[1mDestination Stations Found\u001b[0m - SFU Transit Exchange @ Bay 1, SFU Transit Exchange @ Bay 3, SFU Transit Exchange @ Bay 4, SFU Transit Exchange @ Bay 2, SFU Transportation Centre @ Bay 2, SFU Transportation Centre @ Bay 1\n",
      "\n",
      "-----------------------------------------------------\n",
      "Journeys originating from \u001b[1m\u001b[31mHoldom Station @ Platform 2\u001b[0m\n",
      "\u001b[1m\u001b[32mJourney 1: 32 minutes, 2 transfers\u001b[0m\n",
      "Trip 1: \u001b[33mMillennium Line To Lafarge Lake-Douglas\u001b[0m from \u001b[34mHoldom Station @ Platform 2\u001b[0m to \u001b[34mSperling-Burnaby Lake Station @ Platform 2\u001b[0m\n",
      "Trip 2: \u001b[33mWalk\u001b[0m from \u001b[34mSperling-Burnaby Lake Station @ Platform 2\u001b[0m to \u001b[34mSperling Station @ Bay 2\u001b[0m\n",
      "Trip 3: \u001b[33m144 SFU\u001b[0m from \u001b[34mSperling Station @ Bay 2\u001b[0m to \u001b[34mSFU Transportation Centre @ Bay 2\u001b[0m\n",
      "\n",
      "Journey 2: 33 minutes, 2 transfers\n",
      "Trip 1: \u001b[33mMillennium Line To Lafarge Lake-Douglas\u001b[0m from \u001b[34mHoldom Station @ Platform 2\u001b[0m to \u001b[34mProduction Way-University Station @ Platform 2\u001b[0m\n",
      "Trip 2: \u001b[33mWalk\u001b[0m from \u001b[34mProduction Way-University Station @ Platform 2\u001b[0m to \u001b[34mProduction Way Station @ Bay 1\u001b[0m\n",
      "Trip 3: \u001b[33m145 SFU\u001b[0m from \u001b[34mProduction Way Station @ Bay 1\u001b[0m to \u001b[34mSFU Transportation Centre @ Bay 2\u001b[0m\n",
      "\n",
      "Journey 3: 35 minutes, 2 transfers\n",
      "Trip 1: \u001b[33mMillennium Line To Lafarge Lake-Douglas\u001b[0m from \u001b[34mHoldom Station @ Platform 2\u001b[0m to \u001b[34mProduction Way-University Station @ Platform 2\u001b[0m\n",
      "Trip 2: \u001b[33mWalk\u001b[0m from \u001b[34mProduction Way-University Station @ Platform 2\u001b[0m to \u001b[34mProduction Way Station @ Bay 1\u001b[0m\n",
      "Trip 3: \u001b[33m145 SFU\u001b[0m from \u001b[34mProduction Way Station @ Bay 1\u001b[0m to \u001b[34mSFU Transit Exchange @ Bay 1\u001b[0m\n",
      "\n",
      "-----------------------------------------------------\n"
     ]
    }
   ],
   "source": [
    "path = get_journeys('monday', '14:30', 'Holdom Station', 'SFU')"
   ]
  },
  {
   "cell_type": "markdown",
   "metadata": {},
   "source": [
    "**Query 2:** From SFU Transit Exchange to Metrotown Skytrain Station"
   ]
  },
  {
   "cell_type": "code",
   "execution_count": 21,
   "metadata": {},
   "outputs": [
    {
     "name": "stdout",
     "output_type": "stream",
     "text": [
      "\u001b[1mDeparture Details\u001b[0m - Monday at 13:30\n",
      "\u001b[1mOrigin Stations Found\u001b[0m - SFU Transit Exchange @ Bay 1, SFU Transit Exchange @ Bay 3, SFU Transit Exchange @ Bay 4\n",
      "\u001b[1mDestination Stations Found\u001b[0m - Metrotown Station @ Platform 2, Metrotown Station @ Platform 1\n",
      "\n",
      "-----------------------------------------------------\n",
      "Journeys originating from \u001b[1m\u001b[31mSFU Transit Exchange @ Bay 1\u001b[0m\n",
      "\u001b[1m\u001b[32mJourney 1: 48 minutes, 2 transfers\u001b[0m\n",
      "Trip 1: \u001b[33m145 Production Station\u001b[0m from \u001b[34mSFU Transit Exchange @ Bay 1\u001b[0m to \u001b[34mProduction Way Station @ Bay 1\u001b[0m\n",
      "Trip 2: \u001b[33mWalk\u001b[0m from \u001b[34mProduction Way Station @ Bay 1\u001b[0m to \u001b[34mProduction Way-University Station @ Platform 2\u001b[0m\n",
      "Trip 3: \u001b[33mExpo Line To Waterfront\u001b[0m from \u001b[34mProduction Way-University Station @ Platform 2\u001b[0m to \u001b[34mMetrotown Station @ Platform 1\u001b[0m\n",
      "\n",
      "Journey 2: 58 minutes, 1 transfer\n",
      "Trip 1: \u001b[33mWalk\u001b[0m from \u001b[34mSFU Transit Exchange @ Bay 1\u001b[0m to \u001b[34mSFU Transit Exchange @ Bay 3\u001b[0m\n",
      "Trip 2: \u001b[33m144 Metrotown Station\u001b[0m from \u001b[34mSFU Transit Exchange @ Bay 3\u001b[0m to \u001b[34mMetrotown Station @ Bay 1\u001b[0m\n",
      "Trip 3: \u001b[33mWalk\u001b[0m from \u001b[34mMetrotown Station @ Bay 1\u001b[0m to \u001b[34mMetrotown Station @ Platform 2\u001b[0m\n",
      "\n",
      "Journey 3: 58 minutes, 1 transfer\n",
      "Trip 1: \u001b[33mWalk\u001b[0m from \u001b[34mSFU Transit Exchange @ Bay 1\u001b[0m to \u001b[34mSFU Transit Exchange @ Bay 3\u001b[0m\n",
      "Trip 2: \u001b[33m144 Metrotown Station\u001b[0m from \u001b[34mSFU Transit Exchange @ Bay 3\u001b[0m to \u001b[34mMetrotown Station @ Bay 1\u001b[0m\n",
      "Trip 3: \u001b[33mWalk\u001b[0m from \u001b[34mMetrotown Station @ Bay 1\u001b[0m to \u001b[34mMetrotown Station @ Platform 1\u001b[0m\n",
      "\n",
      "-----------------------------------------------------\n",
      "Journeys originating from \u001b[1m\u001b[31mSFU Transit Exchange @ Bay 3\u001b[0m\n",
      "\u001b[1m\u001b[32mJourney 1: 58 minutes, 2 transfers\u001b[0m\n",
      "Trip 1: \u001b[33m144 Metrotown Station\u001b[0m from \u001b[34mSFU Transit Exchange @ Bay 3\u001b[0m to \u001b[34mSouthbound Kensington Ave @ Joe Sakic Way\u001b[0m\n",
      "Trip 2: \u001b[33m110 Metrotown Station\u001b[0m from \u001b[34mSouthbound Kensington Ave @ Joe Sakic Way\u001b[0m to \u001b[34mMetrotown Station @ Bay 1\u001b[0m\n",
      "Trip 3: \u001b[33mWalk\u001b[0m from \u001b[34mMetrotown Station @ Bay 1\u001b[0m to \u001b[34mMetrotown Station @ Platform 2\u001b[0m\n",
      "\n",
      "Journey 2: 58 minutes, 2 transfers\n",
      "Trip 1: \u001b[33m144 Metrotown Station\u001b[0m from \u001b[34mSFU Transit Exchange @ Bay 3\u001b[0m to \u001b[34mSouthbound Kensington Ave @ Joe Sakic Way\u001b[0m\n",
      "Trip 2: \u001b[33m110 Metrotown Station\u001b[0m from \u001b[34mSouthbound Kensington Ave @ Joe Sakic Way\u001b[0m to \u001b[34mMetrotown Station @ Bay 1\u001b[0m\n",
      "Trip 3: \u001b[33mWalk\u001b[0m from \u001b[34mMetrotown Station @ Bay 1\u001b[0m to \u001b[34mMetrotown Station @ Platform 1\u001b[0m\n",
      "\n",
      "Journey 3: 59 minutes, 2 transfers\n",
      "Trip 1: \u001b[33m144 Metrotown Station\u001b[0m from \u001b[34mSFU Transit Exchange @ Bay 3\u001b[0m to \u001b[34mSouthbound Kensington Ave @ Joe Sakic Way\u001b[0m\n",
      "Trip 2: \u001b[33m110 Metrotown Station\u001b[0m from \u001b[34mSouthbound Kensington Ave @ Joe Sakic Way\u001b[0m to \u001b[34mMetrotown Station @ Bay 1\u001b[0m\n",
      "Trip 3: \u001b[33mWalk\u001b[0m from \u001b[34mMetrotown Station @ Bay 1\u001b[0m to \u001b[34mMetrotown Station @ Platform 2\u001b[0m\n",
      "\n",
      "-----------------------------------------------------\n",
      "Journeys originating from \u001b[1m\u001b[31mSFU Transit Exchange @ Bay 4\u001b[0m\n",
      "\u001b[1m\u001b[32mJourney 1: 59 minutes, 1 transfer\u001b[0m\n",
      "Trip 1: \u001b[33mWalk\u001b[0m from \u001b[34mSFU Transit Exchange @ Bay 4\u001b[0m to \u001b[34mSFU Transit Exchange @ Bay 3\u001b[0m\n",
      "Trip 2: \u001b[33m144 Metrotown Station\u001b[0m from \u001b[34mSFU Transit Exchange @ Bay 3\u001b[0m to \u001b[34mMetrotown Station @ Bay 1\u001b[0m\n",
      "Trip 3: \u001b[33mWalk\u001b[0m from \u001b[34mMetrotown Station @ Bay 1\u001b[0m to \u001b[34mMetrotown Station @ Platform 2\u001b[0m\n",
      "\n",
      "Journey 2: 59 minutes, 1 transfer\n",
      "Trip 1: \u001b[33mWalk\u001b[0m from \u001b[34mSFU Transit Exchange @ Bay 4\u001b[0m to \u001b[34mSFU Transit Exchange @ Bay 3\u001b[0m\n",
      "Trip 2: \u001b[33m144 Metrotown Station\u001b[0m from \u001b[34mSFU Transit Exchange @ Bay 3\u001b[0m to \u001b[34mMetrotown Station @ Bay 1\u001b[0m\n",
      "Trip 3: \u001b[33mWalk\u001b[0m from \u001b[34mMetrotown Station @ Bay 1\u001b[0m to \u001b[34mMetrotown Station @ Platform 1\u001b[0m\n",
      "\n",
      "-----------------------------------------------------\n"
     ]
    }
   ],
   "source": [
    "get_journeys('monday', '13:30', 'SFU Transit Exchange', 'Metrotown Station @ Platform')"
   ]
  },
  {
   "cell_type": "markdown",
   "metadata": {},
   "source": [
    "**Query 3:** From Waterfront to Lonsdale Quay"
   ]
  },
  {
   "cell_type": "code",
   "execution_count": 22,
   "metadata": {},
   "outputs": [
    {
     "name": "stdout",
     "output_type": "stream",
     "text": [
      "\u001b[1mDeparture Details\u001b[0m - Tuesday at 17:30\n",
      "\u001b[1mOrigin Stations Found\u001b[0m - Waterfront Station, Waterfront Station @ Bay 3, Waterfront Station @ Bay 2\n",
      "\u001b[1mDestination Stations Found\u001b[0m - Lonsdale Quay @ Bay 3, Lonsdale Quay @ Bay 4, Lonsdale Quay @ Bay 6, Lonsdale Quay @ Bay 9, Lonsdale Quay @ Bay 2, Lonsdale Quay @ Bay 7, Lonsdale Quay @ Bay 1, Lonsdale Quay @ Bay 8, Lonsdale Quay @ Bay 5, Lonsdale Quay Station\n",
      "\n",
      "-----------------------------------------------------\n",
      "Journeys originating from \u001b[1m\u001b[31mWaterfront Station @ Bay 2\u001b[0m\n",
      "\u001b[1m\u001b[32mJourney 1: 17 minutes, 1 transfer\u001b[0m\n",
      "Trip 1: \u001b[33mWalk\u001b[0m from \u001b[34mWaterfront Station @ Bay 2\u001b[0m to \u001b[34mWaterfront Station Northbound\u001b[0m\n",
      "Trip 2: \u001b[33mSeaBus Northbound To Lonsdale Quay\u001b[0m from \u001b[34mWaterfront Station Northbound\u001b[0m to \u001b[34mLonsdale Quay Northbound\u001b[0m\n",
      "Trip 3: \u001b[33mWalk\u001b[0m from \u001b[34mLonsdale Quay Northbound\u001b[0m to \u001b[34mLonsdale Quay @ Bay 2\u001b[0m\n",
      "\n",
      "Journey 2: 17 minutes, 1 transfer\n",
      "Trip 1: \u001b[33mWalk\u001b[0m from \u001b[34mWaterfront Station @ Bay 2\u001b[0m to \u001b[34mWaterfront Station Northbound\u001b[0m\n",
      "Trip 2: \u001b[33mSeaBus Northbound To Lonsdale Quay\u001b[0m from \u001b[34mWaterfront Station Northbound\u001b[0m to \u001b[34mLonsdale Quay Northbound\u001b[0m\n",
      "Trip 3: \u001b[33mWalk\u001b[0m from \u001b[34mLonsdale Quay Northbound\u001b[0m to \u001b[34mLonsdale Quay @ Bay 7\u001b[0m\n",
      "\n",
      "Journey 3: 17 minutes, 1 transfer\n",
      "Trip 1: \u001b[33mWalk\u001b[0m from \u001b[34mWaterfront Station @ Bay 2\u001b[0m to \u001b[34mWaterfront Station Northbound\u001b[0m\n",
      "Trip 2: \u001b[33mSeaBus Northbound To Lonsdale Quay\u001b[0m from \u001b[34mWaterfront Station Northbound\u001b[0m to \u001b[34mLonsdale Quay Northbound\u001b[0m\n",
      "Trip 3: \u001b[33mWalk\u001b[0m from \u001b[34mLonsdale Quay Northbound\u001b[0m to \u001b[34mLonsdale Quay @ Bay 1\u001b[0m\n",
      "\n",
      "-----------------------------------------------------\n"
     ]
    }
   ],
   "source": [
    "get_journeys('tuesday', '17:30', 'waterfront', 'Lonsdale Quay')"
   ]
  },
  {
   "cell_type": "code",
   "execution_count": 23,
   "metadata": {},
   "outputs": [
    {
     "name": "stdout",
     "output_type": "stream",
     "text": [
      "\u001b[1mDeparture Details\u001b[0m - Monday at 13:30\n",
      "\u001b[1mOrigin Stations Found\u001b[0m - Holdom Station @ Platform 1\n",
      "\u001b[1mDestination Stations Found\u001b[0m - Holdom Station @ Platform 2\n",
      "\n",
      "-----------------------------------------------------\n",
      "Journeys originating from \u001b[1m\u001b[31mHoldom Station @ Platform 1\u001b[0m\n",
      "\u001b[1m\u001b[32mJourney 1: 0 minutes, 0 transfer\u001b[0m\n",
      "Trip 1: \u001b[33mWalk\u001b[0m from \u001b[34mHoldom Station @ Platform 1\u001b[0m to \u001b[34mHoldom Station @ Platform 2\u001b[0m\n",
      "\n",
      "-----------------------------------------------------\n"
     ]
    }
   ],
   "source": [
    "get_journeys('monday', '13:30', 'Holdom Station @ Platform 1', 'Holdom Station @ Platform 2')"
   ]
  },
  {
   "cell_type": "code",
   "execution_count": 26,
   "metadata": {},
   "outputs": [
    {
     "name": "stdout",
     "output_type": "stream",
     "text": [
      "\u001b[1mDeparture Details\u001b[0m - Wednesday at 15:45\n",
      "\u001b[1mOrigin Stations Found\u001b[0m - UBC Exchange @ Bay 9, UBC Exchange @ Bay 7, UBC Exchange @ Bay 1\n",
      "\u001b[1mDestination Stations Found\u001b[0m - Waterfront Station, Waterfront Station @ Bay 3, Waterfront Station @ Bay 2, Waterfront Station @ Bay 1, Waterfront Station Eastbound, Waterfront Station Northbound, Waterfront Station Southbound, Waterfront Station Unload Only, Waterfront Station @ Platform 2, Waterfront Station @ Platform 1\n",
      "\n",
      "-----------------------------------------------------\n",
      "Journeys originating from \u001b[1m\u001b[31mUBC Exchange @ Bay 9\u001b[0m\n",
      "\u001b[1m\u001b[32mJourney 1: 44 minutes, 1 transfer\u001b[0m\n",
      "Trip 1: \u001b[33mWalk\u001b[0m from \u001b[34mUBC Exchange @ Bay 9\u001b[0m to \u001b[34mUBC Exchange @ Bay 10\u001b[0m\n",
      "Trip 2: \u001b[33mWalk\u001b[0m from \u001b[34mUBC Exchange @ Bay 10\u001b[0m to \u001b[34mUBC Exchange @ Bay 11\u001b[0m\n",
      "Trip 3: \u001b[33m4 Powell\u001b[0m from \u001b[34mUBC Exchange @ Bay 11\u001b[0m to \u001b[34mWaterfront Station @ Bay 3\u001b[0m\n",
      "\n",
      "Journey 2: 51 minutes, 2 transfers\n",
      "Trip 1: \u001b[33m14 Hastings\u001b[0m from \u001b[34mUBC Exchange @ Bay 9\u001b[0m to \u001b[34mNorthbound Alma St @ W 10 Ave\u001b[0m\n",
      "Trip 2: \u001b[33m7 Nanaimo Station\u001b[0m from \u001b[34mNorthbound Alma St @ W 10 Ave\u001b[0m to \u001b[34mWaterfront Station @ Bay 3\u001b[0m\n",
      "\n",
      "Journey 3: 56 minutes, 2 transfers\n",
      "Trip 1: \u001b[33mWalk\u001b[0m from \u001b[34mUBC Exchange @ Bay 9\u001b[0m to \u001b[34mUBC Exchange @ Bay 10\u001b[0m\n",
      "Trip 2: \u001b[33m14 Hastings\u001b[0m from \u001b[34mUBC Exchange @ Bay 10\u001b[0m to \u001b[34mEastbound University Blvd @ Allison Rd\u001b[0m\n",
      "Trip 3: \u001b[33m4 Powell\u001b[0m from \u001b[34mEastbound University Blvd @ Allison Rd\u001b[0m to \u001b[34mWaterfront Station @ Bay 3\u001b[0m\n",
      "\n",
      "-----------------------------------------------------\n",
      "Journeys originating from \u001b[1m\u001b[31mUBC Exchange @ Bay 7\u001b[0m\n",
      "\u001b[1m\u001b[32mJourney 1: 44 minutes, 1 transfer\u001b[0m\n",
      "Trip 1: \u001b[33m4 Powell\u001b[0m from \u001b[34mUBC Exchange @ Bay 7\u001b[0m to \u001b[34mWaterfront Station @ Bay 3\u001b[0m\n",
      "\n",
      "-----------------------------------------------------\n",
      "Journeys originating from \u001b[1m\u001b[31mUBC Exchange @ Bay 1\u001b[0m\n",
      "\u001b[1m\u001b[32mJourney 1: 44 minutes, 2 transfers\u001b[0m\n",
      "Trip 1: \u001b[33mWalk\u001b[0m from \u001b[34mUBC Exchange @ Bay 1\u001b[0m to \u001b[34mUBC Exchange @ Bay 7\u001b[0m\n",
      "Trip 2: \u001b[33m99 To Boundary B-Line\u001b[0m from \u001b[34mUBC Exchange @ Bay 7\u001b[0m to \u001b[34mEastbound University Blvd @ Allison Rd\u001b[0m\n",
      "Trip 3: \u001b[33m4 Powell\u001b[0m from \u001b[34mEastbound University Blvd @ Allison Rd\u001b[0m to \u001b[34mWaterfront Station @ Bay 3\u001b[0m\n",
      "\n",
      "Journey 2: 51 minutes, 2 transfers\n",
      "Trip 1: \u001b[33mWalk\u001b[0m from \u001b[34mUBC Exchange @ Bay 1\u001b[0m to \u001b[34mUBC Exchange @ Bay 2\u001b[0m\n",
      "Trip 2: \u001b[33m84 VCC-Clark Station\u001b[0m from \u001b[34mUBC Exchange @ Bay 2\u001b[0m to \u001b[34mEastbound W 4th Ave @ Macdonald St\u001b[0m\n",
      "Trip 3: \u001b[33m7 Nanaimo Station\u001b[0m from \u001b[34mEastbound W 4th Ave @ Macdonald St\u001b[0m to \u001b[34mWaterfront Station @ Bay 3\u001b[0m\n",
      "\n",
      "Journey 3: 56 minutes, 2 transfers\n",
      "Trip 1: \u001b[33mWalk\u001b[0m from \u001b[34mUBC Exchange @ Bay 1\u001b[0m to \u001b[34mUBC Exchange @ Bay 2\u001b[0m\n",
      "Trip 2: \u001b[33m84 VCC-Clark Station\u001b[0m from \u001b[34mUBC Exchange @ Bay 2\u001b[0m to \u001b[34mEastbound W 4th Ave @ Tolmie St\u001b[0m\n",
      "Trip 3: \u001b[33m4 Powell\u001b[0m from \u001b[34mEastbound W 4th Ave @ Tolmie St\u001b[0m to \u001b[34mWaterfront Station @ Bay 3\u001b[0m\n",
      "\n",
      "-----------------------------------------------------\n"
     ]
    }
   ],
   "source": [
    "user_day = input()\n",
    "user_time = input()\n",
    "user_origin = input()\n",
    "user_destination = input()\n",
    "get_journeys(user_day, user_time, user_origin, user_destination)"
   ]
  }
 ],
 "metadata": {
  "kernelspec": {
   "display_name": "Python 3.11.0 64-bit",
   "language": "python",
   "name": "python3"
  },
  "language_info": {
   "codemirror_mode": {
    "name": "ipython",
    "version": 3
   },
   "file_extension": ".py",
   "mimetype": "text/x-python",
   "name": "python",
   "nbconvert_exporter": "python",
   "pygments_lexer": "ipython3",
   "version": "3.11.0"
  },
  "orig_nbformat": 4,
  "vscode": {
   "interpreter": {
    "hash": "c261aea317cc0286b3b3261fbba9abdec21eaa57589985bb7a274bf54d6cc0a7"
   }
  }
 },
 "nbformat": 4,
 "nbformat_minor": 2
}
