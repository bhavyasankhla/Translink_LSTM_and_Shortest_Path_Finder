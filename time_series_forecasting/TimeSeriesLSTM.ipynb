{
 "cells": [
  {
   "cell_type": "markdown",
   "metadata": {
    "ExecuteTime": {
     "end_time": "2022-12-10T05:33:05.160616Z",
     "start_time": "2022-12-10T05:33:05.155668Z"
    }
   },
   "source": [
    "### Imports"
   ]
  },
  {
   "cell_type": "code",
   "execution_count": 459,
   "metadata": {
    "id": "w1_G0o4yWSOU"
   },
   "outputs": [],
   "source": [
    "import numpy as np\n",
    "from tensorflow import keras\n",
    "from keras.models import Sequential\n",
    "from keras.layers import LSTM\n",
    "from keras.layers import Dense, Dropout\n",
    "import pandas as pd\n",
    "from matplotlib import pyplot as plt\n",
    "from sklearn.preprocessing import MinMaxScaler, StandardScaler\n",
    "import seaborn as sns\n",
    "from datetime import datetime\n",
    "import time\n",
    "\n",
    "from sklearn.metrics import mean_absolute_error"
   ]
  },
  {
   "cell_type": "markdown",
   "metadata": {
    "ExecuteTime": {
     "end_time": "2022-12-10T05:33:21.868042Z",
     "start_time": "2022-12-10T05:33:21.864304Z"
    }
   },
   "source": [
    "### Read Data"
   ]
  },
  {
   "cell_type": "code",
   "execution_count": 489,
   "metadata": {
    "id": "WuH3f1NsCQeI"
   },
   "outputs": [],
   "source": [
    "ds = pd.read_csv('ds.csv')\n",
    "df=ds.copy()"
   ]
  },
  {
   "cell_type": "markdown",
   "metadata": {},
   "source": [
    "### Outlier Removal"
   ]
  },
  {
   "cell_type": "code",
   "execution_count": 490,
   "metadata": {
    "id": "rzSjcSiBCSXl"
   },
   "outputs": [],
   "source": [
    "median = df['arrival_delay'].median()\n",
    "std = df['arrival_delay'].std()\n",
    "outliers = (df['arrival_delay'] - median).abs() > std\n",
    "df.loc[outliers, 'arrival_delay'] =median\n"
   ]
  },
  {
   "cell_type": "markdown",
   "metadata": {
    "ExecuteTime": {
     "end_time": "2022-12-10T05:29:14.276520Z",
     "start_time": "2022-12-10T05:29:14.271311Z"
    }
   },
   "source": [
    "### Feature Selection"
   ]
  },
  {
   "cell_type": "code",
   "execution_count": 491,
   "metadata": {
    "id": "OPFrmNS5WJSD"
   },
   "outputs": [],
   "source": [
    "categorical_feat=['trip_date','stop_id','trip_id','route_id','stop_sequence','stop_lat','stop_lon','shifted_col']\n",
    "droppped_features=['stop_name','sch_arrival_time', 'sch_departure_time', 'departure_time','departure_delay']\n",
    "\n",
    "\n",
    "df.drop(df[df['arrival_time'] == -1].index, inplace = True) \n",
    "df = df.sort_values(by=['arrival_time'], ascending=True)\n",
    "\n",
    "df['shifted_col'] = df['arrival_time'].shift()\n",
    "df['shifted_col'] = df['shifted_col'].fillna(0)\n",
    "df['shifted_col'] = df['shifted_col'].astype('int64')\n",
    "df.head()\n",
    "df.loc[df['stop_sequence'] == 1, 'shifted_col'] = 0\n",
    "df['running_time'] = df['arrival_time'] - df['shifted_col']\n",
    "df.loc[df['stop_sequence'] == 1, 'running_time'] = 0\n",
    "df.loc[df['shifted_col'] == 0, 'running_time'] = 0\n",
    "\n",
    "df=df.drop(droppped_features+categorical_feat,axis=1)\n",
    "df['arrival_time'] = pd.to_datetime(df['arrival_time']).view('int64')\n",
    "df['arrival_delay']=df['arrival_delay']/60\n",
    "cols = list(df)\n",
    "df_for_training = df[cols].astype(float)\n",
    "scaler = MinMaxScaler()\n",
    "scaler = scaler.fit(df_for_training)\n",
    "df_for_training_scaled = scaler.transform(df_for_training)\n",
    "\n"
   ]
  },
  {
   "cell_type": "markdown",
   "metadata": {},
   "source": [
    "### Dataset Split"
   ]
  },
  {
   "cell_type": "code",
   "execution_count": 463,
   "metadata": {
    "colab": {
     "base_uri": "https://localhost:8080/",
     "height": 0
    },
    "id": "CEzONEAVYMwh",
    "outputId": "a9a652d8-0dbe-4ae8-9075-5d9e356ddb1a"
   },
   "outputs": [
    {
     "name": "stdout",
     "output_type": "stream",
     "text": [
      "455 4100\n",
      "trainX shape == (4100, 14, 3).\n",
      "testX shape == (455, 14, 3)\n",
      "testY shape == (455, 1).\n",
      "trainY shape == (4100, 1)\n"
     ]
    }
   ],
   "source": [
    "DatasetX = []\n",
    "DatasetY = []\n",
    "\n",
    "n_future = 1   # Number of days we want to look into the future based on the past days.\n",
    "n_past = 14 \n",
    "for i in range(n_past, len(df_for_training_scaled) - n_future +1):\n",
    "    DatasetX.append(df_for_training_scaled[i - n_past:i, 0:df_for_training.shape[1]])\n",
    "    DatasetY.append(df_for_training_scaled[i + n_future - 1:i + n_future, 0])\n",
    "\n",
    "DatasetX, DatasetY = np.array(DatasetX), np.array(DatasetY)\n",
    "\n",
    "test_split= int(DatasetX.shape[0]*0.1)\n",
    "train_split=DatasetX.shape[0]-test_split\n",
    "print(test_split,train_split)\n",
    "testX=DatasetX[-test_split:].copy()\n",
    "trainX=DatasetX[0:train_split].copy()\n",
    "testY=DatasetY[-test_split:].copy()\n",
    "trainY=DatasetY[0:train_split].copy()\n",
    "print('trainX shape == {}.'.format(trainX.shape))\n",
    "print('testX shape == {}'.format(testX.shape))\n",
    "print('testY shape == {}.'.format(testY.shape))\n",
    "print('trainY shape == {}'.format(trainY.shape))"
   ]
  },
  {
   "cell_type": "markdown",
   "metadata": {},
   "source": [
    "### Model Architecture"
   ]
  },
  {
   "cell_type": "code",
   "execution_count": 464,
   "metadata": {
    "colab": {
     "base_uri": "https://localhost:8080/",
     "height": 0
    },
    "id": "jeAjOK8WYdPb",
    "outputId": "f46862f8-a499-42e9-9e01-2e189149410a"
   },
   "outputs": [
    {
     "name": "stdout",
     "output_type": "stream",
     "text": [
      "Model: \"sequential_9\"\n",
      "_________________________________________________________________\n",
      " Layer (type)                Output Shape              Param #   \n",
      "=================================================================\n",
      " lstm_18 (LSTM)              (None, 14, 64)            17408     \n",
      "                                                                 \n",
      " lstm_19 (LSTM)              (None, 32)                12416     \n",
      "                                                                 \n",
      " dropout_9 (Dropout)         (None, 32)                0         \n",
      "                                                                 \n",
      " dense_9 (Dense)             (None, 1)                 33        \n",
      "                                                                 \n",
      "=================================================================\n",
      "Total params: 29,857\n",
      "Trainable params: 29,857\n",
      "Non-trainable params: 0\n",
      "_________________________________________________________________\n"
     ]
    }
   ],
   "source": [
    "model = Sequential()\n",
    "model.add(LSTM(64, activation='relu', input_shape=(trainX.shape[1], trainX.shape[2]), return_sequences=True))\n",
    "model.add(LSTM(32, activation='relu', return_sequences=False))\n",
    "model.add(Dropout(0.2))\n",
    "model.add(Dense(trainY.shape[1]))\n",
    "model.compile(optimizer='adam', loss='mse')\n",
    "model.summary()"
   ]
  },
  {
   "cell_type": "markdown",
   "metadata": {
    "ExecuteTime": {
     "end_time": "2022-12-10T05:30:44.073383Z",
     "start_time": "2022-12-10T05:30:44.070586Z"
    }
   },
   "source": [
    "### Training"
   ]
  },
  {
   "cell_type": "code",
   "execution_count": 465,
   "metadata": {
    "colab": {
     "base_uri": "https://localhost:8080/",
     "height": 1670
    },
    "id": "qn6VSUmeYkx3",
    "outputId": "fd879353-7881-4068-bca0-3784cded567a"
   },
   "outputs": [
    {
     "name": "stdout",
     "output_type": "stream",
     "text": [
      "Epoch 1/40\n",
      "33/33 [==============================] - 4s 45ms/step - loss: 0.4067 - val_loss: 0.0243\n",
      "Epoch 2/40\n",
      "33/33 [==============================] - 1s 35ms/step - loss: 0.0458 - val_loss: 0.0050\n",
      "Epoch 3/40\n",
      "33/33 [==============================] - 1s 34ms/step - loss: 0.0378 - val_loss: 0.0046\n",
      "Epoch 4/40\n",
      "33/33 [==============================] - 1s 33ms/step - loss: 0.0362 - val_loss: 0.0044\n",
      "Epoch 5/40\n",
      "33/33 [==============================] - 1s 35ms/step - loss: 0.0365 - val_loss: 0.0043\n",
      "Epoch 6/40\n",
      "33/33 [==============================] - 1s 34ms/step - loss: 0.0354 - val_loss: 0.0043\n",
      "Epoch 7/40\n",
      "33/33 [==============================] - 1s 35ms/step - loss: 0.0339 - val_loss: 0.0042\n",
      "Epoch 8/40\n",
      "33/33 [==============================] - 1s 34ms/step - loss: 0.0332 - val_loss: 0.0047\n",
      "Epoch 9/40\n",
      "33/33 [==============================] - 1s 33ms/step - loss: 0.0340 - val_loss: 0.0051\n",
      "Epoch 10/40\n",
      "33/33 [==============================] - 1s 34ms/step - loss: 0.0329 - val_loss: 0.0040\n",
      "Epoch 11/40\n",
      "33/33 [==============================] - 1s 34ms/step - loss: 0.0322 - val_loss: 0.0053\n",
      "Epoch 12/40\n",
      "33/33 [==============================] - 1s 35ms/step - loss: 0.0316 - val_loss: 0.0043\n",
      "Epoch 13/40\n",
      "33/33 [==============================] - 1s 34ms/step - loss: 0.0314 - val_loss: 0.0040\n",
      "Epoch 14/40\n",
      "33/33 [==============================] - 1s 34ms/step - loss: 0.0322 - val_loss: 0.0068\n",
      "Epoch 15/40\n",
      "33/33 [==============================] - 1s 33ms/step - loss: 0.0303 - val_loss: 0.0036\n",
      "Epoch 16/40\n",
      "33/33 [==============================] - 1s 34ms/step - loss: 0.0299 - val_loss: 0.0040\n",
      "Epoch 17/40\n",
      "33/33 [==============================] - 1s 34ms/step - loss: 0.0296 - val_loss: 0.0035\n",
      "Epoch 18/40\n",
      "33/33 [==============================] - 1s 34ms/step - loss: 0.0280 - val_loss: 0.0035\n",
      "Epoch 19/40\n",
      "33/33 [==============================] - 1s 34ms/step - loss: 0.0289 - val_loss: 0.0036\n",
      "Epoch 20/40\n",
      "33/33 [==============================] - 1s 35ms/step - loss: 0.0286 - val_loss: 0.0035\n",
      "Epoch 21/40\n",
      "33/33 [==============================] - 1s 34ms/step - loss: 0.0301 - val_loss: 0.0055\n",
      "Epoch 22/40\n",
      "33/33 [==============================] - 2s 60ms/step - loss: 0.0274 - val_loss: 0.0035\n",
      "Epoch 23/40\n",
      "33/33 [==============================] - 2s 61ms/step - loss: 0.0261 - val_loss: 0.0032\n",
      "Epoch 24/40\n",
      "33/33 [==============================] - 1s 35ms/step - loss: 0.0262 - val_loss: 0.0044\n",
      "Epoch 25/40\n",
      "33/33 [==============================] - 1s 34ms/step - loss: 0.0259 - val_loss: 0.0030\n",
      "Epoch 26/40\n",
      "33/33 [==============================] - 1s 35ms/step - loss: 0.0253 - val_loss: 0.0085\n",
      "Epoch 27/40\n",
      "33/33 [==============================] - 1s 36ms/step - loss: 0.0259 - val_loss: 0.0067\n",
      "Epoch 28/40\n",
      "33/33 [==============================] - 1s 37ms/step - loss: 0.0266 - val_loss: 0.0037\n",
      "Epoch 29/40\n",
      "33/33 [==============================] - 1s 33ms/step - loss: 0.0242 - val_loss: 0.0030\n",
      "Epoch 30/40\n",
      "33/33 [==============================] - 1s 32ms/step - loss: 0.0242 - val_loss: 0.0029\n",
      "Epoch 31/40\n",
      "33/33 [==============================] - 1s 33ms/step - loss: 0.0238 - val_loss: 0.0029\n",
      "Epoch 32/40\n",
      "33/33 [==============================] - 1s 32ms/step - loss: 0.0242 - val_loss: 0.0062\n",
      "Epoch 33/40\n",
      "33/33 [==============================] - 1s 34ms/step - loss: 0.0233 - val_loss: 0.0031\n",
      "Epoch 34/40\n",
      "33/33 [==============================] - 1s 35ms/step - loss: 0.0233 - val_loss: 0.0070\n",
      "Epoch 35/40\n",
      "33/33 [==============================] - 1s 34ms/step - loss: 0.0224 - val_loss: 0.0035\n",
      "Epoch 36/40\n",
      "33/33 [==============================] - 1s 33ms/step - loss: 0.0228 - val_loss: 0.0036\n",
      "Epoch 37/40\n",
      "33/33 [==============================] - 1s 34ms/step - loss: 0.0227 - val_loss: 0.0032\n",
      "Epoch 38/40\n",
      "33/33 [==============================] - 1s 33ms/step - loss: 0.0213 - val_loss: 0.0029\n",
      "Epoch 39/40\n",
      "33/33 [==============================] - 1s 36ms/step - loss: 0.0226 - val_loss: 0.0048\n",
      "Epoch 40/40\n",
      "33/33 [==============================] - 1s 36ms/step - loss: 0.0210 - val_loss: 0.0036\n"
     ]
    },
    {
     "data": {
      "text/plain": [
       "<matplotlib.legend.Legend at 0x7f99988de1c0>"
      ]
     },
     "execution_count": 465,
     "metadata": {},
     "output_type": "execute_result"
    },
    {
     "data": {
      "image/png": "[encoded data removed]",
      "text/plain": [
       "<Figure size 432x288 with 1 Axes>"
      ]
     },
     "metadata": {
      "needs_background": "light"
     },
     "output_type": "display_data"
    }
   ],
   "source": [
    "history = model.fit(trainX, trainY, epochs=40, batch_size=100, validation_split=0.2, verbose=1)\n",
    "plt.plot(history.history['loss'], label='Training loss')\n",
    "plt.plot(history.history['val_loss'], label='Validation loss')\n",
    "plt.legend()"
   ]
  },
  {
   "cell_type": "code",
   "execution_count": 466,
   "metadata": {
    "colab": {
     "base_uri": "https://localhost:8080/",
     "height": 0
    },
    "id": "k3PJ3Vcju3P0",
    "outputId": "0665b20e-4d60-42d0-a217-0901939cc50c"
   },
   "outputs": [
    {
     "name": "stdout",
     "output_type": "stream",
     "text": [
      "129/129 [==============================] - 1s 6ms/step\n"
     ]
    }
   ],
   "source": [
    "prediction = model.predict(trainX) #shape = (n, 1) where n is the n_days_for_prediction\n",
    "prediction_copies = np.repeat(prediction, df_for_training.shape[1], axis=-1)\n",
    "y_pred_future = scaler.inverse_transform(prediction_copies)[:,0]"
   ]
  },
  {
   "cell_type": "code",
   "execution_count": 481,
   "metadata": {
    "colab": {
     "base_uri": "https://localhost:8080/",
     "height": 573
    },
    "id": "BlWv0eAd8hyP",
    "outputId": "0882fe3e-e27f-4e55-c946-e0bf6436d548"
   },
   "outputs": [
    {
     "data": {
      "image/png": "[encoded data removed]",
      "text/plain": [
       "<Figure size 432x288 with 1 Axes>"
      ]
     },
     "metadata": {
      "needs_background": "light"
     },
     "output_type": "display_data"
    },
    {
     "data": {
      "image/png": "[encoded data removed]",
      "text/plain": [
       "<Figure size 432x288 with 1 Axes>"
      ]
     },
     "metadata": {
      "needs_background": "light"
     },
     "output_type": "display_data"
    }
   ],
   "source": [
    "f1 = plt.figure()\n",
    "f2 = plt.figure()\n",
    "ax1 = f1.add_subplot(111)\n",
    "ax1.axis(ymin=-20,ymax=20)\n",
    "\n",
    "ax1.plot(np.arange(0,len(y_pred_future)), y_pred_future)\n",
    "ax1.set_title('Predicted Values')\n",
    "ax1.set_xlabel('Number of Observations')\n",
    "ax1.set_ylabel('Arrival Delay')\n",
    "ax2 = f2.add_subplot(111)\n",
    "ax2.axis(ymin=-20,ymax=20)\n",
    "ax2.set_title('Real Values')\n",
    "ax2.plot(np.arange(0,len(df[\"arrival_delay\"])), df[\"arrival_delay\"])\n",
    "ax2.set_xlabel('Number of Observations')\n",
    "ax2.set_ylabel('Arrival Delay')\n",
    "plt.show()\n"
   ]
  },
  {
   "cell_type": "code",
   "execution_count": 482,
   "metadata": {
    "colab": {
     "base_uri": "https://localhost:8080/",
     "height": 0
    },
    "id": "gl4UsPVs80wb",
    "outputId": "ce0ea30f-4d7d-47e3-a46b-4e4bbfb71d40"
   },
   "outputs": [
    {
     "name": "stdout",
     "output_type": "stream",
     "text": [
      "15/15 [==============================] - 0s 5ms/step\n",
      "(455, 14, 3)\n"
     ]
    }
   ],
   "source": [
    "#Training on test Data\n",
    "prediction2 = model.predict(testX) #shape = (n, 1) where n is the n_days_for_prediction\n",
    "prediction_copies2 = np.repeat(prediction2, df_for_training.shape[1], axis=-1)\n",
    "y_pred_future1 = scaler.inverse_transform(prediction_copies2)[:,0]\n",
    "print(testX.shape)"
   ]
  },
  {
   "cell_type": "markdown",
   "metadata": {
    "ExecuteTime": {
     "end_time": "2022-12-10T05:31:13.813782Z",
     "start_time": "2022-12-10T05:31:13.810593Z"
    }
   },
   "source": [
    "### Prediction on test-set"
   ]
  },
  {
   "cell_type": "code",
   "execution_count": 483,
   "metadata": {
    "colab": {
     "base_uri": "https://localhost:8080/",
     "height": 763
    },
    "id": "6mA3QpjK9nng",
    "outputId": "febec57e-1423-4cee-a3e6-39d127f18ea5"
   },
   "outputs": [
    {
     "data": {
      "image/png": "[encoded data removed]",
      "text/plain": [
       "<Figure size 432x288 with 1 Axes>"
      ]
     },
     "metadata": {
      "needs_background": "light"
     },
     "output_type": "display_data"
    },
    {
     "data": {
      "image/png": "[encoded data removed]",
      "text/plain": [
       "<Figure size 432x288 with 1 Axes>"
      ]
     },
     "metadata": {
      "needs_background": "light"
     },
     "output_type": "display_data"
    },
    {
     "data": {
      "text/html": [
       "\n",
       "  <div id=\"df-790dcd6e-2a6d-43e3-8a2f-d2cd7dfebf41\">\n",
       "    <div class=\"colab-df-container\">\n",
       "      <div>\n",
       "<style scoped>\n",
       "    .dataframe tbody tr th:only-of-type {\n",
       "        vertical-align: middle;\n",
       "    }\n",
       "\n",
       "    .dataframe tbody tr th {\n",
       "        vertical-align: top;\n",
       "    }\n",
       "\n",
       "    .dataframe thead th {\n",
       "        text-align: right;\n",
       "    }\n",
       "</style>\n",
       "<table border=\"1\" class=\"dataframe\">\n",
       "  <thead>\n",
       "    <tr style=\"text-align: right;\">\n",
       "      <th></th>\n",
       "      <th>arrival_delay</th>\n",
       "      <th>arrival_time</th>\n",
       "      <th>running_time</th>\n",
       "    </tr>\n",
       "  </thead>\n",
       "  <tbody>\n",
       "    <tr>\n",
       "      <th>2126</th>\n",
       "      <td>-1.866667</td>\n",
       "      <td>1669170098</td>\n",
       "      <td>0</td>\n",
       "    </tr>\n",
       "    <tr>\n",
       "      <th>76</th>\n",
       "      <td>-1.900000</td>\n",
       "      <td>1669170137</td>\n",
       "      <td>39</td>\n",
       "    </tr>\n",
       "    <tr>\n",
       "      <th>2035</th>\n",
       "      <td>-1.866667</td>\n",
       "      <td>1669170229</td>\n",
       "      <td>92</td>\n",
       "    </tr>\n",
       "    <tr>\n",
       "      <th>3008</th>\n",
       "      <td>-2.166667</td>\n",
       "      <td>1669170295</td>\n",
       "      <td>66</td>\n",
       "    </tr>\n",
       "    <tr>\n",
       "      <th>2270</th>\n",
       "      <td>-2.733333</td>\n",
       "      <td>1669170343</td>\n",
       "      <td>48</td>\n",
       "    </tr>\n",
       "  </tbody>\n",
       "</table>\n",
       "</div>\n",
       "      <button class=\"colab-df-convert\" onclick=\"convertToInteractive('df-790dcd6e-2a6d-43e3-8a2f-d2cd7dfebf41')\"\n",
       "              title=\"Convert this dataframe to an interactive table.\"\n",
       "              style=\"display:none;\">\n",
       "        \n",
       "  <svg xmlns=\"http://www.w3.org/2000/svg\" height=\"24px\"viewBox=\"0 0 24 24\"\n",
       "       width=\"24px\">\n",
       "    <path d=\"M0 0h24v24H0V0z\" fill=\"none\"/>\n",
       "    <path d=\"M18.56 5.44l.94 2.06.94-2.06 2.06-.94-2.06-.94-.94-2.06-.94 2.06-2.06.94zm-11 1L8.5 8.5l.94-2.06 2.06-.94-2.06-.94L8.5 2.5l-.94 2.06-2.06.94zm10 10l.94 2.06.94-2.06 2.06-.94-2.06-.94-.94-2.06-.94 2.06-2.06.94z\"/><path d=\"M17.41 7.96l-1.37-1.37c-.4-.4-.92-.59-1.43-.59-.52 0-1.04.2-1.43.59L10.3 9.45l-7.72 7.72c-.78.78-.78 2.05 0 2.83L4 21.41c.39.39.9.59 1.41.59.51 0 1.02-.2 1.41-.59l7.78-7.78 2.81-2.81c.8-.78.8-2.07 0-2.86zM5.41 20L4 18.59l7.72-7.72 1.47 1.35L5.41 20z\"/>\n",
       "  </svg>\n",
       "      </button>\n",
       "      \n",
       "  <style>\n",
       "    .colab-df-container {\n",
       "      display:flex;\n",
       "      flex-wrap:wrap;\n",
       "      gap: 12px;\n",
       "    }\n",
       "\n",
       "    .colab-df-convert {\n",
       "      background-color: #E8F0FE;\n",
       "      border: none;\n",
       "      border-radius: 50%;\n",
       "      cursor: pointer;\n",
       "      display: none;\n",
       "      fill: #1967D2;\n",
       "      height: 32px;\n",
       "      padding: 0 0 0 0;\n",
       "      width: 32px;\n",
       "    }\n",
       "\n",
       "    .colab-df-convert:hover {\n",
       "      background-color: #E2EBFA;\n",
       "      box-shadow: 0px 1px 2px rgba(60, 64, 67, 0.3), 0px 1px 3px 1px rgba(60, 64, 67, 0.15);\n",
       "      fill: #174EA6;\n",
       "    }\n",
       "\n",
       "    [theme=dark] .colab-df-convert {\n",
       "      background-color: #3B4455;\n",
       "      fill: #D2E3FC;\n",
       "    }\n",
       "\n",
       "    [theme=dark] .colab-df-convert:hover {\n",
       "      background-color: #434B5C;\n",
       "      box-shadow: 0px 1px 3px 1px rgba(0, 0, 0, 0.15);\n",
       "      filter: drop-shadow(0px 1px 2px rgba(0, 0, 0, 0.3));\n",
       "      fill: #FFFFFF;\n",
       "    }\n",
       "  </style>\n",
       "\n",
       "      <script>\n",
       "        const buttonEl =\n",
       "          document.querySelector('#df-790dcd6e-2a6d-43e3-8a2f-d2cd7dfebf41 button.colab-df-convert');\n",
       "        buttonEl.style.display =\n",
       "          google.colab.kernel.accessAllowed ? 'block' : 'none';\n",
       "\n",
       "        async function convertToInteractive(key) {\n",
       "          const element = document.querySelector('#df-790dcd6e-2a6d-43e3-8a2f-d2cd7dfebf41');\n",
       "          const dataTable =\n",
       "            await google.colab.kernel.invokeFunction('convertToInteractive',\n",
       "                                                     [key], {});\n",
       "          if (!dataTable) return;\n",
       "\n",
       "          const docLinkHtml = 'Like what you see? Visit the ' +\n",
       "            '<a target=\"_blank\" href=https://colab.research.google.com/notebooks/data_table.ipynb>data table notebook</a>'\n",
       "            + ' to learn more about interactive tables.';\n",
       "          element.innerHTML = '';\n",
       "          dataTable['output_type'] = 'display_data';\n",
       "          await google.colab.output.renderOutput(dataTable, element);\n",
       "          const docLink = document.createElement('div');\n",
       "          docLink.innerHTML = docLinkHtml;\n",
       "          element.appendChild(docLink);\n",
       "        }\n",
       "      </script>\n",
       "    </div>\n",
       "  </div>\n",
       "  "
      ],
      "text/plain": [
       "      arrival_delay  arrival_time  running_time\n",
       "2126      -1.866667    1669170098             0\n",
       "76        -1.900000    1669170137            39\n",
       "2035      -1.866667    1669170229            92\n",
       "3008      -2.166667    1669170295            66\n",
       "2270      -2.733333    1669170343            48"
      ]
     },
     "execution_count": 483,
     "metadata": {},
     "output_type": "execute_result"
    }
   ],
   "source": [
    "f1 = plt.figure()\n",
    "f2 = plt.figure()\n",
    "testY_unscaledValues=df['arrival_delay'].iloc[-test_split:].to_numpy().flatten()\n",
    "\n",
    "ax1 = f1.add_subplot(111)\n",
    "ax1.axis(ymin=-15,ymax=5)\n",
    "ax1.plot(np.arange(0,len(y_pred_future1)), y_pred_future1)\n",
    "ax1.set_title('Predicted Values')\n",
    "ax1.set_xlabel('Number of Observations')\n",
    "ax1.set_ylabel('Arrival Delay')\n",
    "ax2 = f2.add_subplot(111)\n",
    "ax2.axis(ymin=-15,ymax=5)\n",
    "ax2.set_title('Real Values')\n",
    "ax2.plot(np.arange(0,len(testX)), testY_unscaledValues)\n",
    "ax2.set_xlabel('Number of Observations')\n",
    "ax2.set_ylabel('Arrival Delay')\n",
    "plt.show()\n",
    "df.head()"
   ]
  },
  {
   "cell_type": "code",
   "execution_count": 484,
   "metadata": {
    "colab": {
     "base_uri": "https://localhost:8080/",
     "height": 0
    },
    "id": "keYZ9CNv9pPR",
    "outputId": "32a5a60f-d21b-4f0c-d443-69ed38d7cc91"
   },
   "outputs": [
    {
     "name": "stdout",
     "output_type": "stream",
     "text": [
      "Accuracy of the model on the test Data:  0.6075621958791991\n"
     ]
    }
   ],
   "source": [
    "accuracy=mean_absolute_error(testY_unscaledValues,y_pred_future1)\n",
    "print(\"Accuracy of the model on the test Data: \", accuracy)\n",
    "\n",
    "\n"
   ]
  },
  {
   "cell_type": "code",
   "execution_count": 485,
   "metadata": {
    "colab": {
     "base_uri": "https://localhost:8080/",
     "height": 364
    },
    "id": "8--xw9vmOZty",
    "outputId": "be0a7130-3c0d-4c77-ac68-227ef8bf3b36"
   },
   "outputs": [
    {
     "data": {
      "text/html": [
       "\n",
       "  <div id=\"df-abb99b7b-c12c-4f43-a882-74b83504e4de\">\n",
       "    <div class=\"colab-df-container\">\n",
       "      <div>\n",
       "<style scoped>\n",
       "    .dataframe tbody tr th:only-of-type {\n",
       "        vertical-align: middle;\n",
       "    }\n",
       "\n",
       "    .dataframe tbody tr th {\n",
       "        vertical-align: top;\n",
       "    }\n",
       "\n",
       "    .dataframe thead th {\n",
       "        text-align: right;\n",
       "    }\n",
       "</style>\n",
       "<table border=\"1\" class=\"dataframe\">\n",
       "  <thead>\n",
       "    <tr style=\"text-align: right;\">\n",
       "      <th></th>\n",
       "      <th>Predicted Values</th>\n",
       "      <th>Actual Values</th>\n",
       "    </tr>\n",
       "  </thead>\n",
       "  <tbody>\n",
       "    <tr>\n",
       "      <th>0</th>\n",
       "      <td>-3.748395</td>\n",
       "      <td>-4.216667</td>\n",
       "    </tr>\n",
       "    <tr>\n",
       "      <th>1</th>\n",
       "      <td>-3.967012</td>\n",
       "      <td>-4.083333</td>\n",
       "    </tr>\n",
       "    <tr>\n",
       "      <th>2</th>\n",
       "      <td>-4.022313</td>\n",
       "      <td>-4.083333</td>\n",
       "    </tr>\n",
       "    <tr>\n",
       "      <th>3</th>\n",
       "      <td>-4.057290</td>\n",
       "      <td>-2.083333</td>\n",
       "    </tr>\n",
       "    <tr>\n",
       "      <th>4</th>\n",
       "      <td>-3.113455</td>\n",
       "      <td>-2.083333</td>\n",
       "    </tr>\n",
       "    <tr>\n",
       "      <th>5</th>\n",
       "      <td>-2.862320</td>\n",
       "      <td>-1.950000</td>\n",
       "    </tr>\n",
       "    <tr>\n",
       "      <th>6</th>\n",
       "      <td>-2.648578</td>\n",
       "      <td>-2.150000</td>\n",
       "    </tr>\n",
       "    <tr>\n",
       "      <th>7</th>\n",
       "      <td>-2.635501</td>\n",
       "      <td>-2.400000</td>\n",
       "    </tr>\n",
       "    <tr>\n",
       "      <th>8</th>\n",
       "      <td>-2.709344</td>\n",
       "      <td>-2.866667</td>\n",
       "    </tr>\n",
       "    <tr>\n",
       "      <th>9</th>\n",
       "      <td>-2.913051</td>\n",
       "      <td>-1.850000</td>\n",
       "    </tr>\n",
       "  </tbody>\n",
       "</table>\n",
       "</div>\n",
       "      <button class=\"colab-df-convert\" onclick=\"convertToInteractive('df-abb99b7b-c12c-4f43-a882-74b83504e4de')\"\n",
       "              title=\"Convert this dataframe to an interactive table.\"\n",
       "              style=\"display:none;\">\n",
       "        \n",
       "  <svg xmlns=\"http://www.w3.org/2000/svg\" height=\"24px\"viewBox=\"0 0 24 24\"\n",
       "       width=\"24px\">\n",
       "    <path d=\"M0 0h24v24H0V0z\" fill=\"none\"/>\n",
       "    <path d=\"M18.56 5.44l.94 2.06.94-2.06 2.06-.94-2.06-.94-.94-2.06-.94 2.06-2.06.94zm-11 1L8.5 8.5l.94-2.06 2.06-.94-2.06-.94L8.5 2.5l-.94 2.06-2.06.94zm10 10l.94 2.06.94-2.06 2.06-.94-2.06-.94-.94-2.06-.94 2.06-2.06.94z\"/><path d=\"M17.41 7.96l-1.37-1.37c-.4-.4-.92-.59-1.43-.59-.52 0-1.04.2-1.43.59L10.3 9.45l-7.72 7.72c-.78.78-.78 2.05 0 2.83L4 21.41c.39.39.9.59 1.41.59.51 0 1.02-.2 1.41-.59l7.78-7.78 2.81-2.81c.8-.78.8-2.07 0-2.86zM5.41 20L4 18.59l7.72-7.72 1.47 1.35L5.41 20z\"/>\n",
       "  </svg>\n",
       "      </button>\n",
       "      \n",
       "  <style>\n",
       "    .colab-df-container {\n",
       "      display:flex;\n",
       "      flex-wrap:wrap;\n",
       "      gap: 12px;\n",
       "    }\n",
       "\n",
       "    .colab-df-convert {\n",
       "      background-color: #E8F0FE;\n",
       "      border: none;\n",
       "      border-radius: 50%;\n",
       "      cursor: pointer;\n",
       "      display: none;\n",
       "      fill: #1967D2;\n",
       "      height: 32px;\n",
       "      padding: 0 0 0 0;\n",
       "      width: 32px;\n",
       "    }\n",
       "\n",
       "    .colab-df-convert:hover {\n",
       "      background-color: #E2EBFA;\n",
       "      box-shadow: 0px 1px 2px rgba(60, 64, 67, 0.3), 0px 1px 3px 1px rgba(60, 64, 67, 0.15);\n",
       "      fill: #174EA6;\n",
       "    }\n",
       "\n",
       "    [theme=dark] .colab-df-convert {\n",
       "      background-color: #3B4455;\n",
       "      fill: #D2E3FC;\n",
       "    }\n",
       "\n",
       "    [theme=dark] .colab-df-convert:hover {\n",
       "      background-color: #434B5C;\n",
       "      box-shadow: 0px 1px 3px 1px rgba(0, 0, 0, 0.15);\n",
       "      filter: drop-shadow(0px 1px 2px rgba(0, 0, 0, 0.3));\n",
       "      fill: #FFFFFF;\n",
       "    }\n",
       "  </style>\n",
       "\n",
       "      <script>\n",
       "        const buttonEl =\n",
       "          document.querySelector('#df-abb99b7b-c12c-4f43-a882-74b83504e4de button.colab-df-convert');\n",
       "        buttonEl.style.display =\n",
       "          google.colab.kernel.accessAllowed ? 'block' : 'none';\n",
       "\n",
       "        async function convertToInteractive(key) {\n",
       "          const element = document.querySelector('#df-abb99b7b-c12c-4f43-a882-74b83504e4de');\n",
       "          const dataTable =\n",
       "            await google.colab.kernel.invokeFunction('convertToInteractive',\n",
       "                                                     [key], {});\n",
       "          if (!dataTable) return;\n",
       "\n",
       "          const docLinkHtml = 'Like what you see? Visit the ' +\n",
       "            '<a target=\"_blank\" href=https://colab.research.google.com/notebooks/data_table.ipynb>data table notebook</a>'\n",
       "            + ' to learn more about interactive tables.';\n",
       "          element.innerHTML = '';\n",
       "          dataTable['output_type'] = 'display_data';\n",
       "          await google.colab.output.renderOutput(dataTable, element);\n",
       "          const docLink = document.createElement('div');\n",
       "          docLink.innerHTML = docLinkHtml;\n",
       "          element.appendChild(docLink);\n",
       "        }\n",
       "      </script>\n",
       "    </div>\n",
       "  </div>\n",
       "  "
      ],
      "text/plain": [
       "   Predicted Values  Actual Values\n",
       "0         -3.748395      -4.216667\n",
       "1         -3.967012      -4.083333\n",
       "2         -4.022313      -4.083333\n",
       "3         -4.057290      -2.083333\n",
       "4         -3.113455      -2.083333\n",
       "5         -2.862320      -1.950000\n",
       "6         -2.648578      -2.150000\n",
       "7         -2.635501      -2.400000\n",
       "8         -2.709344      -2.866667\n",
       "9         -2.913051      -1.850000"
      ]
     },
     "execution_count": 485,
     "metadata": {},
     "output_type": "execute_result"
    }
   ],
   "source": [
    "df1 = pd.DataFrame([y_pred_future1,testY_unscaledValues]).transpose()\n",
    "df1.columns = ['Predicted Values', 'Actual Values']\n",
    "df1.head(10)"
   ]
  },
  {
   "cell_type": "markdown",
   "metadata": {
    "ExecuteTime": {
     "end_time": "2022-12-10T05:32:38.294070Z",
     "start_time": "2022-12-10T05:32:38.290077Z"
    }
   },
   "source": [
    "### Prediction for future 20 stops"
   ]
  },
  {
   "cell_type": "code",
   "execution_count": 486,
   "metadata": {
    "colab": {
     "base_uri": "https://localhost:8080/",
     "height": 0
    },
    "id": "pshpuQY9P3-2",
    "outputId": "0b1f16a1-bd91-4c32-9fa3-c9aba4ac5661"
   },
   "outputs": [
    {
     "name": "stderr",
     "output_type": "stream",
     "text": [
      "/usr/local/lib/python3.8/dist-packages/IPython/core/interactiveshell.py:3326: DtypeWarning: Columns (0,1) have mixed types.Specify dtype option on import or set low_memory=False.\n",
      "  exec(code_obj, self.user_global_ns, self.user_ns)\n"
     ]
    },
    {
     "name": "stdout",
     "output_type": "stream",
     "text": [
      "1/1 [==============================] - 0s 23ms/step\n",
      "1/1 [==============================] - 0s 22ms/step\n"
     ]
    },
    {
     "name": "stderr",
     "output_type": "stream",
     "text": [
      "/usr/local/lib/python3.8/dist-packages/sklearn/base.py:450: UserWarning: X does not have valid feature names, but MinMaxScaler was fitted with feature names\n",
      "  warnings.warn(\n",
      "/usr/local/lib/python3.8/dist-packages/pandas/core/series.py:1056: SettingWithCopyWarning: \n",
      "A value is trying to be set on a copy of a slice from a DataFrame\n",
      "\n",
      "See the caveats in the documentation: https://pandas.pydata.org/pandas-docs/stable/user_guide/indexing.html#returning-a-view-versus-a-copy\n",
      "  cacher_needs_updating = self._check_is_chained_assignment_possible()\n",
      "/usr/local/lib/python3.8/dist-packages/sklearn/base.py:450: UserWarning: X does not have valid feature names, but MinMaxScaler was fitted with feature names\n",
      "  warnings.warn(\n",
      "/usr/local/lib/python3.8/dist-packages/pandas/core/series.py:1056: SettingWithCopyWarning: \n",
      "A value is trying to be set on a copy of a slice from a DataFrame\n",
      "\n",
      "See the caveats in the documentation: https://pandas.pydata.org/pandas-docs/stable/user_guide/indexing.html#returning-a-view-versus-a-copy\n",
      "  cacher_needs_updating = self._check_is_chained_assignment_possible()\n"
     ]
    },
    {
     "name": "stdout",
     "output_type": "stream",
     "text": [
      "1/1 [==============================] - 0s 23ms/step\n",
      "1/1 [==============================] - 0s 20ms/step\n",
      "1/1 [==============================] - 0s 18ms/step\n"
     ]
    },
    {
     "name": "stderr",
     "output_type": "stream",
     "text": [
      "/usr/local/lib/python3.8/dist-packages/sklearn/base.py:450: UserWarning: X does not have valid feature names, but MinMaxScaler was fitted with feature names\n",
      "  warnings.warn(\n",
      "/usr/local/lib/python3.8/dist-packages/pandas/core/series.py:1056: SettingWithCopyWarning: \n",
      "A value is trying to be set on a copy of a slice from a DataFrame\n",
      "\n",
      "See the caveats in the documentation: https://pandas.pydata.org/pandas-docs/stable/user_guide/indexing.html#returning-a-view-versus-a-copy\n",
      "  cacher_needs_updating = self._check_is_chained_assignment_possible()\n",
      "/usr/local/lib/python3.8/dist-packages/sklearn/base.py:450: UserWarning: X does not have valid feature names, but MinMaxScaler was fitted with feature names\n",
      "  warnings.warn(\n",
      "/usr/local/lib/python3.8/dist-packages/pandas/core/series.py:1056: SettingWithCopyWarning: \n",
      "A value is trying to be set on a copy of a slice from a DataFrame\n",
      "\n",
      "See the caveats in the documentation: https://pandas.pydata.org/pandas-docs/stable/user_guide/indexing.html#returning-a-view-versus-a-copy\n",
      "  cacher_needs_updating = self._check_is_chained_assignment_possible()\n",
      "/usr/local/lib/python3.8/dist-packages/sklearn/base.py:450: UserWarning: X does not have valid feature names, but MinMaxScaler was fitted with feature names\n",
      "  warnings.warn(\n",
      "/usr/local/lib/python3.8/dist-packages/pandas/core/series.py:1056: SettingWithCopyWarning: \n",
      "A value is trying to be set on a copy of a slice from a DataFrame\n",
      "\n",
      "See the caveats in the documentation: https://pandas.pydata.org/pandas-docs/stable/user_guide/indexing.html#returning-a-view-versus-a-copy\n",
      "  cacher_needs_updating = self._check_is_chained_assignment_possible()\n"
     ]
    },
    {
     "name": "stdout",
     "output_type": "stream",
     "text": [
      "1/1 [==============================] - 0s 22ms/step\n",
      "1/1 [==============================] - 0s 19ms/step\n",
      "1/1 [==============================] - 0s 22ms/step\n"
     ]
    },
    {
     "name": "stderr",
     "output_type": "stream",
     "text": [
      "/usr/local/lib/python3.8/dist-packages/sklearn/base.py:450: UserWarning: X does not have valid feature names, but MinMaxScaler was fitted with feature names\n",
      "  warnings.warn(\n",
      "/usr/local/lib/python3.8/dist-packages/pandas/core/series.py:1056: SettingWithCopyWarning: \n",
      "A value is trying to be set on a copy of a slice from a DataFrame\n",
      "\n",
      "See the caveats in the documentation: https://pandas.pydata.org/pandas-docs/stable/user_guide/indexing.html#returning-a-view-versus-a-copy\n",
      "  cacher_needs_updating = self._check_is_chained_assignment_possible()\n",
      "/usr/local/lib/python3.8/dist-packages/sklearn/base.py:450: UserWarning: X does not have valid feature names, but MinMaxScaler was fitted with feature names\n",
      "  warnings.warn(\n",
      "/usr/local/lib/python3.8/dist-packages/pandas/core/series.py:1056: SettingWithCopyWarning: \n",
      "A value is trying to be set on a copy of a slice from a DataFrame\n",
      "\n",
      "See the caveats in the documentation: https://pandas.pydata.org/pandas-docs/stable/user_guide/indexing.html#returning-a-view-versus-a-copy\n",
      "  cacher_needs_updating = self._check_is_chained_assignment_possible()\n",
      "/usr/local/lib/python3.8/dist-packages/sklearn/base.py:450: UserWarning: X does not have valid feature names, but MinMaxScaler was fitted with feature names\n",
      "  warnings.warn(\n",
      "/usr/local/lib/python3.8/dist-packages/pandas/core/series.py:1056: SettingWithCopyWarning: \n",
      "A value is trying to be set on a copy of a slice from a DataFrame\n",
      "\n",
      "See the caveats in the documentation: https://pandas.pydata.org/pandas-docs/stable/user_guide/indexing.html#returning-a-view-versus-a-copy\n",
      "  cacher_needs_updating = self._check_is_chained_assignment_possible()\n"
     ]
    },
    {
     "name": "stdout",
     "output_type": "stream",
     "text": [
      "1/1 [==============================] - 0s 23ms/step\n",
      "1/1 [==============================] - 0s 19ms/step\n",
      "1/1 [==============================] - 0s 21ms/step\n"
     ]
    },
    {
     "name": "stderr",
     "output_type": "stream",
     "text": [
      "/usr/local/lib/python3.8/dist-packages/sklearn/base.py:450: UserWarning: X does not have valid feature names, but MinMaxScaler was fitted with feature names\n",
      "  warnings.warn(\n",
      "/usr/local/lib/python3.8/dist-packages/pandas/core/series.py:1056: SettingWithCopyWarning: \n",
      "A value is trying to be set on a copy of a slice from a DataFrame\n",
      "\n",
      "See the caveats in the documentation: https://pandas.pydata.org/pandas-docs/stable/user_guide/indexing.html#returning-a-view-versus-a-copy\n",
      "  cacher_needs_updating = self._check_is_chained_assignment_possible()\n",
      "/usr/local/lib/python3.8/dist-packages/sklearn/base.py:450: UserWarning: X does not have valid feature names, but MinMaxScaler was fitted with feature names\n",
      "  warnings.warn(\n",
      "/usr/local/lib/python3.8/dist-packages/pandas/core/series.py:1056: SettingWithCopyWarning: \n",
      "A value is trying to be set on a copy of a slice from a DataFrame\n",
      "\n",
      "See the caveats in the documentation: https://pandas.pydata.org/pandas-docs/stable/user_guide/indexing.html#returning-a-view-versus-a-copy\n",
      "  cacher_needs_updating = self._check_is_chained_assignment_possible()\n",
      "/usr/local/lib/python3.8/dist-packages/sklearn/base.py:450: UserWarning: X does not have valid feature names, but MinMaxScaler was fitted with feature names\n",
      "  warnings.warn(\n",
      "/usr/local/lib/python3.8/dist-packages/pandas/core/series.py:1056: SettingWithCopyWarning: \n",
      "A value is trying to be set on a copy of a slice from a DataFrame\n",
      "\n",
      "See the caveats in the documentation: https://pandas.pydata.org/pandas-docs/stable/user_guide/indexing.html#returning-a-view-versus-a-copy\n",
      "  cacher_needs_updating = self._check_is_chained_assignment_possible()\n"
     ]
    },
    {
     "name": "stdout",
     "output_type": "stream",
     "text": [
      "1/1 [==============================] - 0s 21ms/step\n",
      "1/1 [==============================] - 0s 20ms/step\n",
      "1/1 [==============================] - 0s 18ms/step\n"
     ]
    },
    {
     "name": "stderr",
     "output_type": "stream",
     "text": [
      "/usr/local/lib/python3.8/dist-packages/sklearn/base.py:450: UserWarning: X does not have valid feature names, but MinMaxScaler was fitted with feature names\n",
      "  warnings.warn(\n",
      "/usr/local/lib/python3.8/dist-packages/pandas/core/series.py:1056: SettingWithCopyWarning: \n",
      "A value is trying to be set on a copy of a slice from a DataFrame\n",
      "\n",
      "See the caveats in the documentation: https://pandas.pydata.org/pandas-docs/stable/user_guide/indexing.html#returning-a-view-versus-a-copy\n",
      "  cacher_needs_updating = self._check_is_chained_assignment_possible()\n",
      "/usr/local/lib/python3.8/dist-packages/sklearn/base.py:450: UserWarning: X does not have valid feature names, but MinMaxScaler was fitted with feature names\n",
      "  warnings.warn(\n",
      "/usr/local/lib/python3.8/dist-packages/pandas/core/series.py:1056: SettingWithCopyWarning: \n",
      "A value is trying to be set on a copy of a slice from a DataFrame\n",
      "\n",
      "See the caveats in the documentation: https://pandas.pydata.org/pandas-docs/stable/user_guide/indexing.html#returning-a-view-versus-a-copy\n",
      "  cacher_needs_updating = self._check_is_chained_assignment_possible()\n",
      "/usr/local/lib/python3.8/dist-packages/sklearn/base.py:450: UserWarning: X does not have valid feature names, but MinMaxScaler was fitted with feature names\n",
      "  warnings.warn(\n",
      "/usr/local/lib/python3.8/dist-packages/pandas/core/series.py:1056: SettingWithCopyWarning: \n",
      "A value is trying to be set on a copy of a slice from a DataFrame\n",
      "\n",
      "See the caveats in the documentation: https://pandas.pydata.org/pandas-docs/stable/user_guide/indexing.html#returning-a-view-versus-a-copy\n",
      "  cacher_needs_updating = self._check_is_chained_assignment_possible()\n"
     ]
    },
    {
     "name": "stdout",
     "output_type": "stream",
     "text": [
      "1/1 [==============================] - 0s 22ms/step\n",
      "1/1 [==============================] - 0s 21ms/step\n",
      "1/1 [==============================] - 0s 25ms/step\n"
     ]
    },
    {
     "name": "stderr",
     "output_type": "stream",
     "text": [
      "/usr/local/lib/python3.8/dist-packages/sklearn/base.py:450: UserWarning: X does not have valid feature names, but MinMaxScaler was fitted with feature names\n",
      "  warnings.warn(\n",
      "/usr/local/lib/python3.8/dist-packages/pandas/core/series.py:1056: SettingWithCopyWarning: \n",
      "A value is trying to be set on a copy of a slice from a DataFrame\n",
      "\n",
      "See the caveats in the documentation: https://pandas.pydata.org/pandas-docs/stable/user_guide/indexing.html#returning-a-view-versus-a-copy\n",
      "  cacher_needs_updating = self._check_is_chained_assignment_possible()\n",
      "/usr/local/lib/python3.8/dist-packages/sklearn/base.py:450: UserWarning: X does not have valid feature names, but MinMaxScaler was fitted with feature names\n",
      "  warnings.warn(\n",
      "/usr/local/lib/python3.8/dist-packages/pandas/core/series.py:1056: SettingWithCopyWarning: \n",
      "A value is trying to be set on a copy of a slice from a DataFrame\n",
      "\n",
      "See the caveats in the documentation: https://pandas.pydata.org/pandas-docs/stable/user_guide/indexing.html#returning-a-view-versus-a-copy\n",
      "  cacher_needs_updating = self._check_is_chained_assignment_possible()\n",
      "/usr/local/lib/python3.8/dist-packages/sklearn/base.py:450: UserWarning: X does not have valid feature names, but MinMaxScaler was fitted with feature names\n",
      "  warnings.warn(\n",
      "/usr/local/lib/python3.8/dist-packages/pandas/core/series.py:1056: SettingWithCopyWarning: \n",
      "A value is trying to be set on a copy of a slice from a DataFrame\n",
      "\n",
      "See the caveats in the documentation: https://pandas.pydata.org/pandas-docs/stable/user_guide/indexing.html#returning-a-view-versus-a-copy\n",
      "  cacher_needs_updating = self._check_is_chained_assignment_possible()\n"
     ]
    },
    {
     "name": "stdout",
     "output_type": "stream",
     "text": [
      "1/1 [==============================] - 0s 20ms/step\n",
      "1/1 [==============================] - 0s 21ms/step\n",
      "1/1 [==============================] - 0s 20ms/step\n"
     ]
    },
    {
     "name": "stderr",
     "output_type": "stream",
     "text": [
      "/usr/local/lib/python3.8/dist-packages/sklearn/base.py:450: UserWarning: X does not have valid feature names, but MinMaxScaler was fitted with feature names\n",
      "  warnings.warn(\n",
      "/usr/local/lib/python3.8/dist-packages/pandas/core/series.py:1056: SettingWithCopyWarning: \n",
      "A value is trying to be set on a copy of a slice from a DataFrame\n",
      "\n",
      "See the caveats in the documentation: https://pandas.pydata.org/pandas-docs/stable/user_guide/indexing.html#returning-a-view-versus-a-copy\n",
      "  cacher_needs_updating = self._check_is_chained_assignment_possible()\n",
      "/usr/local/lib/python3.8/dist-packages/sklearn/base.py:450: UserWarning: X does not have valid feature names, but MinMaxScaler was fitted with feature names\n",
      "  warnings.warn(\n",
      "/usr/local/lib/python3.8/dist-packages/pandas/core/series.py:1056: SettingWithCopyWarning: \n",
      "A value is trying to be set on a copy of a slice from a DataFrame\n",
      "\n",
      "See the caveats in the documentation: https://pandas.pydata.org/pandas-docs/stable/user_guide/indexing.html#returning-a-view-versus-a-copy\n",
      "  cacher_needs_updating = self._check_is_chained_assignment_possible()\n",
      "/usr/local/lib/python3.8/dist-packages/sklearn/base.py:450: UserWarning: X does not have valid feature names, but MinMaxScaler was fitted with feature names\n",
      "  warnings.warn(\n",
      "/usr/local/lib/python3.8/dist-packages/pandas/core/series.py:1056: SettingWithCopyWarning: \n",
      "A value is trying to be set on a copy of a slice from a DataFrame\n",
      "\n",
      "See the caveats in the documentation: https://pandas.pydata.org/pandas-docs/stable/user_guide/indexing.html#returning-a-view-versus-a-copy\n",
      "  cacher_needs_updating = self._check_is_chained_assignment_possible()\n"
     ]
    }
   ],
   "source": [
    "predict_stops=20\n",
    "temp_feature_data=testX[-1]\n",
    "temp_dropped_data=ds.iloc[-1]\n",
    "maxStopSequence=ds['stop_sequence'].max()\n",
    "trips=pd.read_csv('trips.csv')\n",
    "stops=pd.read_csv(\"stops.csv\")\n",
    "stop_times=pd.read_csv(\"stop_times.csv\")\n",
    "trip_id_list=trips.loc[(trips['route_id']==6612) & (trips['direction_id']==1)]\n",
    "l1 = np.sort(trip_id_list[\"trip_id\"].to_numpy())\n",
    "temp1 = temp_feature_data.reshape(1,14,3)\n",
    "list_predict = []\n",
    "\n",
    "\n",
    "\n",
    "for i in range(predict_stops):\n",
    "  prediction1 = model.predict(temp1) #shape = (n, 1) where n is the n_days_for_prediction\n",
    "  prediction_copies1 = np.repeat(prediction1, df_for_training.shape[1], axis=-1)\n",
    "\n",
    "  tp = stop_times.loc[(stop_times['trip_id']==temp_dropped_data.trip_id)]\n",
    "  maxStopSequence = tp[\"stop_sequence\"].max()\n",
    "\n",
    "  # maxStopSequence=temp_dropped_data.trip_id\n",
    "  delay = scaler.inverse_transform(prediction_copies1)[:,0]\n",
    "  stop_sequence =  (temp_dropped_data.stop_sequence + 1)%(maxStopSequence)\n",
    "  if(stop_sequence==0):\n",
    "    stop_sequence=stop_sequence+1\n",
    "  if(temp_dropped_data.stop_sequence==maxStopSequence):\n",
    "    ind1 = np.where(l1 == temp_dropped_data.trip_id)\n",
    "    ind1 = ind1[0][0] + 1\n",
    "    ind2=(ind1%len(l1))\n",
    "  else:\n",
    "    ind2=np.where(l1 == temp_dropped_data.trip_id)\n",
    "    ind2 = ind2[0][0]\n",
    "  trip_id_final = l1[ind2]\n",
    "  temp_row = stop_times.loc[(stop_times['trip_id']==trip_id_final) & (stop_times['stop_sequence']==stop_sequence)]\n",
    "  temp_unix = temp_dropped_data[\"arrival_time\"]\n",
    "  temp_time = datetime.utcfromtimestamp(temp_unix).strftime('%Y-%m-%d')\n",
    "  final_time = temp_time + str(temp_row[\"arrival_time\"].values[0])\n",
    "  schdate=datetime.strptime(final_time, \"%Y-%m-%d %H:%M:%S\")\n",
    "  schUnixTime=time.mktime(schdate.timetuple())\n",
    "  arrival_time=schUnixTime+delay\n",
    "  running_time=arrival_time-temp_unix\n",
    "  \n",
    "  final_arr = [delay, arrival_time, running_time]\n",
    "  final_arr_np = np.reshape(np.asarray(final_arr), (1,3))\n",
    "  final_arr_np=scaler.transform(final_arr_np)\n",
    "\n",
    "  temp1_final = np.append(temp1[:,1:,:][0], final_arr_np[0])\n",
    "  temp2 = temp1_final.reshape(1,14,3)\n",
    "  temp1 = temp2\n",
    "  temp_dropped_data.stop_sequence = stop_sequence\n",
    "  temp_dropped_data.trip_id = trip_id_final\n",
    "\n",
    "  sn1 = stops.loc[(stops['stop_id']==temp_row[\"stop_id\"].values[0])]\n",
    "  sn2= trips.loc[(trips['trip_id']==trip_id_final)] \n",
    "\n",
    "  df2arr = [sn1[\"stop_name\"].values[0], sn2[\"trip_headsign\"].values[0], final_arr[0], final_time]\n",
    "  list_predict.append(df2arr)"
   ]
  },
  {
   "cell_type": "code",
   "execution_count": 487,
   "metadata": {
    "colab": {
     "base_uri": "https://localhost:8080/",
     "height": 712
    },
    "id": "bc8aYkErpfwj",
    "outputId": "a92acb7e-dfcf-48d6-eafa-3cefe4838a92"
   },
   "outputs": [
    {
     "name": "stderr",
     "output_type": "stream",
     "text": [
      "<ipython-input-487-47a5f8ebbf14>:1: VisibleDeprecationWarning: Creating an ndarray from ragged nested sequences (which is a list-or-tuple of lists-or-tuples-or ndarrays with different lengths or shapes) is deprecated. If you meant to do this, you must specify 'dtype=object' when creating the ndarray.\n",
      "  list_predict = np.asarray(list_predict)\n"
     ]
    },
    {
     "data": {
      "text/html": [
       "\n",
       "  <div id=\"df-777208b8-da2f-455d-802b-3e4ec3cd7e24\">\n",
       "    <div class=\"colab-df-container\">\n",
       "      <div>\n",
       "<style scoped>\n",
       "    .dataframe tbody tr th:only-of-type {\n",
       "        vertical-align: middle;\n",
       "    }\n",
       "\n",
       "    .dataframe tbody tr th {\n",
       "        vertical-align: top;\n",
       "    }\n",
       "\n",
       "    .dataframe thead th {\n",
       "        text-align: right;\n",
       "    }\n",
       "</style>\n",
       "<table border=\"1\" class=\"dataframe\">\n",
       "  <thead>\n",
       "    <tr style=\"text-align: right;\">\n",
       "      <th></th>\n",
       "      <th>stop_name</th>\n",
       "      <th>trip_name</th>\n",
       "      <th>delay</th>\n",
       "      <th>scheduled_time</th>\n",
       "    </tr>\n",
       "  </thead>\n",
       "  <tbody>\n",
       "    <tr>\n",
       "      <th>0</th>\n",
       "      <td>Eastbound W 16 Ave @ Trutch St</td>\n",
       "      <td>2 Macdonald - 16th</td>\n",
       "      <td>[-2.7610295]</td>\n",
       "      <td>2022-12-02 7:57:53</td>\n",
       "    </tr>\n",
       "    <tr>\n",
       "      <th>1</th>\n",
       "      <td>Burrard Station @ Bay 4</td>\n",
       "      <td>2 Macdonald - 16th</td>\n",
       "      <td>[-3.2714865]</td>\n",
       "      <td>2022-12-02 7:34:00</td>\n",
       "    </tr>\n",
       "    <tr>\n",
       "      <th>2</th>\n",
       "      <td>Burrard Station @ Bay 1</td>\n",
       "      <td>2 Macdonald - 16th</td>\n",
       "      <td>[-3.792659]</td>\n",
       "      <td>2022-12-02 7:35:48</td>\n",
       "    </tr>\n",
       "    <tr>\n",
       "      <th>3</th>\n",
       "      <td>Southbound Burrard St @ Robson St</td>\n",
       "      <td>2 Macdonald - 16th</td>\n",
       "      <td>[-4.3294787]</td>\n",
       "      <td>2022-12-02 7:37:02</td>\n",
       "    </tr>\n",
       "    <tr>\n",
       "      <th>4</th>\n",
       "      <td>Southbound Burrard St @ Barclay St</td>\n",
       "      <td>2 Macdonald - 16th</td>\n",
       "      <td>[-4.9326444]</td>\n",
       "      <td>2022-12-02 7:37:36</td>\n",
       "    </tr>\n",
       "    <tr>\n",
       "      <th>5</th>\n",
       "      <td>Southbound Burrard St @ Nelson St</td>\n",
       "      <td>2 Macdonald - 16th</td>\n",
       "      <td>[-5.6188297]</td>\n",
       "      <td>2022-12-02 7:38:12</td>\n",
       "    </tr>\n",
       "    <tr>\n",
       "      <th>6</th>\n",
       "      <td>Southbound Burrard St @ Davie St</td>\n",
       "      <td>2 Macdonald - 16th</td>\n",
       "      <td>[-6.354597]</td>\n",
       "      <td>2022-12-02 7:39:21</td>\n",
       "    </tr>\n",
       "    <tr>\n",
       "      <th>7</th>\n",
       "      <td>Southbound Burrard St @ Harwood St</td>\n",
       "      <td>2 Macdonald - 16th</td>\n",
       "      <td>[-7.1609564]</td>\n",
       "      <td>2022-12-02 7:39:57</td>\n",
       "    </tr>\n",
       "    <tr>\n",
       "      <th>8</th>\n",
       "      <td>Westbound Cornwall Ave @ Cypress St</td>\n",
       "      <td>2 Macdonald - 16th</td>\n",
       "      <td>[-7.9416566]</td>\n",
       "      <td>2022-12-02 7:44:58</td>\n",
       "    </tr>\n",
       "    <tr>\n",
       "      <th>9</th>\n",
       "      <td>Westbound Cornwall Ave @ Arbutus St</td>\n",
       "      <td>2 Macdonald - 16th</td>\n",
       "      <td>[-8.648892]</td>\n",
       "      <td>2022-12-02 7:46:12</td>\n",
       "    </tr>\n",
       "    <tr>\n",
       "      <th>10</th>\n",
       "      <td>Westbound Cornwall Ave @ Yew St</td>\n",
       "      <td>2 Macdonald - 16th</td>\n",
       "      <td>[-9.316458]</td>\n",
       "      <td>2022-12-02 7:46:50</td>\n",
       "    </tr>\n",
       "    <tr>\n",
       "      <th>11</th>\n",
       "      <td>Westbound Cornwall Ave @ Point Grey Rd</td>\n",
       "      <td>2 Macdonald - 16th</td>\n",
       "      <td>[-9.87381]</td>\n",
       "      <td>2022-12-02 7:48:05</td>\n",
       "    </tr>\n",
       "    <tr>\n",
       "      <th>12</th>\n",
       "      <td>Westbound Cornwall Ave @ Trafalgar St</td>\n",
       "      <td>2 Macdonald - 16th</td>\n",
       "      <td>[-10.352725]</td>\n",
       "      <td>2022-12-02 7:49:14</td>\n",
       "    </tr>\n",
       "    <tr>\n",
       "      <th>13</th>\n",
       "      <td>Southbound Macdonald St @ W 1st Ave</td>\n",
       "      <td>2 Macdonald - 16th</td>\n",
       "      <td>[-10.770135]</td>\n",
       "      <td>2022-12-02 7:50:34</td>\n",
       "    </tr>\n",
       "    <tr>\n",
       "      <th>14</th>\n",
       "      <td>Southbound Macdonald St @ W 4th Ave</td>\n",
       "      <td>2 Macdonald - 16th</td>\n",
       "      <td>[-11.089463]</td>\n",
       "      <td>2022-12-02 7:51:37</td>\n",
       "    </tr>\n",
       "    <tr>\n",
       "      <th>15</th>\n",
       "      <td>Southbound Macdonald St @ W 6th Ave</td>\n",
       "      <td>2 Macdonald - 16th</td>\n",
       "      <td>[-11.329108]</td>\n",
       "      <td>2022-12-02 7:52:19</td>\n",
       "    </tr>\n",
       "    <tr>\n",
       "      <th>16</th>\n",
       "      <td>Southbound Macdonald St @ W Broadway</td>\n",
       "      <td>2 Macdonald - 16th</td>\n",
       "      <td>[-11.527273]</td>\n",
       "      <td>2022-12-02 7:53:05</td>\n",
       "    </tr>\n",
       "    <tr>\n",
       "      <th>17</th>\n",
       "      <td>Southbound Macdonald St @ W 11 Ave</td>\n",
       "      <td>2 Macdonald - 16th</td>\n",
       "      <td>[-11.699731]</td>\n",
       "      <td>2022-12-02 7:54:01</td>\n",
       "    </tr>\n",
       "    <tr>\n",
       "      <th>18</th>\n",
       "      <td>Southbound Macdonald St @ W 13 Ave</td>\n",
       "      <td>2 Macdonald - 16th</td>\n",
       "      <td>[-11.854452]</td>\n",
       "      <td>2022-12-02 7:54:40</td>\n",
       "    </tr>\n",
       "    <tr>\n",
       "      <th>19</th>\n",
       "      <td>Westbound W 16 Ave @ Macdonald St</td>\n",
       "      <td>2 Macdonald - 16th</td>\n",
       "      <td>[-11.992366]</td>\n",
       "      <td>2022-12-02 7:55:45</td>\n",
       "    </tr>\n",
       "  </tbody>\n",
       "</table>\n",
       "</div>\n",
       "      <button class=\"colab-df-convert\" onclick=\"convertToInteractive('df-777208b8-da2f-455d-802b-3e4ec3cd7e24')\"\n",
       "              title=\"Convert this dataframe to an interactive table.\"\n",
       "              style=\"display:none;\">\n",
       "        \n",
       "  <svg xmlns=\"http://www.w3.org/2000/svg\" height=\"24px\"viewBox=\"0 0 24 24\"\n",
       "       width=\"24px\">\n",
       "    <path d=\"M0 0h24v24H0V0z\" fill=\"none\"/>\n",
       "    <path d=\"M18.56 5.44l.94 2.06.94-2.06 2.06-.94-2.06-.94-.94-2.06-.94 2.06-2.06.94zm-11 1L8.5 8.5l.94-2.06 2.06-.94-2.06-.94L8.5 2.5l-.94 2.06-2.06.94zm10 10l.94 2.06.94-2.06 2.06-.94-2.06-.94-.94-2.06-.94 2.06-2.06.94z\"/><path d=\"M17.41 7.96l-1.37-1.37c-.4-.4-.92-.59-1.43-.59-.52 0-1.04.2-1.43.59L10.3 9.45l-7.72 7.72c-.78.78-.78 2.05 0 2.83L4 21.41c.39.39.9.59 1.41.59.51 0 1.02-.2 1.41-.59l7.78-7.78 2.81-2.81c.8-.78.8-2.07 0-2.86zM5.41 20L4 18.59l7.72-7.72 1.47 1.35L5.41 20z\"/>\n",
       "  </svg>\n",
       "      </button>\n",
       "      \n",
       "  <style>\n",
       "    .colab-df-container {\n",
       "      display:flex;\n",
       "      flex-wrap:wrap;\n",
       "      gap: 12px;\n",
       "    }\n",
       "\n",
       "    .colab-df-convert {\n",
       "      background-color: #E8F0FE;\n",
       "      border: none;\n",
       "      border-radius: 50%;\n",
       "      cursor: pointer;\n",
       "      display: none;\n",
       "      fill: #1967D2;\n",
       "      height: 32px;\n",
       "      padding: 0 0 0 0;\n",
       "      width: 32px;\n",
       "    }\n",
       "\n",
       "    .colab-df-convert:hover {\n",
       "      background-color: #E2EBFA;\n",
       "      box-shadow: 0px 1px 2px rgba(60, 64, 67, 0.3), 0px 1px 3px 1px rgba(60, 64, 67, 0.15);\n",
       "      fill: #174EA6;\n",
       "    }\n",
       "\n",
       "    [theme=dark] .colab-df-convert {\n",
       "      background-color: #3B4455;\n",
       "      fill: #D2E3FC;\n",
       "    }\n",
       "\n",
       "    [theme=dark] .colab-df-convert:hover {\n",
       "      background-color: #434B5C;\n",
       "      box-shadow: 0px 1px 3px 1px rgba(0, 0, 0, 0.15);\n",
       "      filter: drop-shadow(0px 1px 2px rgba(0, 0, 0, 0.3));\n",
       "      fill: #FFFFFF;\n",
       "    }\n",
       "  </style>\n",
       "\n",
       "      <script>\n",
       "        const buttonEl =\n",
       "          document.querySelector('#df-777208b8-da2f-455d-802b-3e4ec3cd7e24 button.colab-df-convert');\n",
       "        buttonEl.style.display =\n",
       "          google.colab.kernel.accessAllowed ? 'block' : 'none';\n",
       "\n",
       "        async function convertToInteractive(key) {\n",
       "          const element = document.querySelector('#df-777208b8-da2f-455d-802b-3e4ec3cd7e24');\n",
       "          const dataTable =\n",
       "            await google.colab.kernel.invokeFunction('convertToInteractive',\n",
       "                                                     [key], {});\n",
       "          if (!dataTable) return;\n",
       "\n",
       "          const docLinkHtml = 'Like what you see? Visit the ' +\n",
       "            '<a target=\"_blank\" href=https://colab.research.google.com/notebooks/data_table.ipynb>data table notebook</a>'\n",
       "            + ' to learn more about interactive tables.';\n",
       "          element.innerHTML = '';\n",
       "          dataTable['output_type'] = 'display_data';\n",
       "          await google.colab.output.renderOutput(dataTable, element);\n",
       "          const docLink = document.createElement('div');\n",
       "          docLink.innerHTML = docLinkHtml;\n",
       "          element.appendChild(docLink);\n",
       "        }\n",
       "      </script>\n",
       "    </div>\n",
       "  </div>\n",
       "  "
      ],
      "text/plain": [
       "                                 stop_name           trip_name         delay  \\\n",
       "0           Eastbound W 16 Ave @ Trutch St  2 Macdonald - 16th  [-2.7610295]   \n",
       "1                  Burrard Station @ Bay 4  2 Macdonald - 16th  [-3.2714865]   \n",
       "2                  Burrard Station @ Bay 1  2 Macdonald - 16th   [-3.792659]   \n",
       "3        Southbound Burrard St @ Robson St  2 Macdonald - 16th  [-4.3294787]   \n",
       "4       Southbound Burrard St @ Barclay St  2 Macdonald - 16th  [-4.9326444]   \n",
       "5        Southbound Burrard St @ Nelson St  2 Macdonald - 16th  [-5.6188297]   \n",
       "6         Southbound Burrard St @ Davie St  2 Macdonald - 16th   [-6.354597]   \n",
       "7       Southbound Burrard St @ Harwood St  2 Macdonald - 16th  [-7.1609564]   \n",
       "8      Westbound Cornwall Ave @ Cypress St  2 Macdonald - 16th  [-7.9416566]   \n",
       "9      Westbound Cornwall Ave @ Arbutus St  2 Macdonald - 16th   [-8.648892]   \n",
       "10         Westbound Cornwall Ave @ Yew St  2 Macdonald - 16th   [-9.316458]   \n",
       "11  Westbound Cornwall Ave @ Point Grey Rd  2 Macdonald - 16th    [-9.87381]   \n",
       "12   Westbound Cornwall Ave @ Trafalgar St  2 Macdonald - 16th  [-10.352725]   \n",
       "13     Southbound Macdonald St @ W 1st Ave  2 Macdonald - 16th  [-10.770135]   \n",
       "14     Southbound Macdonald St @ W 4th Ave  2 Macdonald - 16th  [-11.089463]   \n",
       "15     Southbound Macdonald St @ W 6th Ave  2 Macdonald - 16th  [-11.329108]   \n",
       "16    Southbound Macdonald St @ W Broadway  2 Macdonald - 16th  [-11.527273]   \n",
       "17      Southbound Macdonald St @ W 11 Ave  2 Macdonald - 16th  [-11.699731]   \n",
       "18      Southbound Macdonald St @ W 13 Ave  2 Macdonald - 16th  [-11.854452]   \n",
       "19       Westbound W 16 Ave @ Macdonald St  2 Macdonald - 16th  [-11.992366]   \n",
       "\n",
       "        scheduled_time  \n",
       "0   2022-12-02 7:57:53  \n",
       "1   2022-12-02 7:34:00  \n",
       "2   2022-12-02 7:35:48  \n",
       "3   2022-12-02 7:37:02  \n",
       "4   2022-12-02 7:37:36  \n",
       "5   2022-12-02 7:38:12  \n",
       "6   2022-12-02 7:39:21  \n",
       "7   2022-12-02 7:39:57  \n",
       "8   2022-12-02 7:44:58  \n",
       "9   2022-12-02 7:46:12  \n",
       "10  2022-12-02 7:46:50  \n",
       "11  2022-12-02 7:48:05  \n",
       "12  2022-12-02 7:49:14  \n",
       "13  2022-12-02 7:50:34  \n",
       "14  2022-12-02 7:51:37  \n",
       "15  2022-12-02 7:52:19  \n",
       "16  2022-12-02 7:53:05  \n",
       "17  2022-12-02 7:54:01  \n",
       "18  2022-12-02 7:54:40  \n",
       "19  2022-12-02 7:55:45  "
      ]
     },
     "execution_count": 487,
     "metadata": {},
     "output_type": "execute_result"
    }
   ],
   "source": [
    "list_predict = np.asarray(list_predict)\n",
    "# list_predict.shape\n",
    "dataframe_final = pd.DataFrame(list_predict, columns = ['stop_name','trip_name','delay', 'scheduled_time'])\n",
    "\n",
    "dataframe_final"
   ]
  }
 ],
 "metadata": {
  "colab": {
   "provenance": []
  },
  "kernelspec": {
   "display_name": "Python 3 (ipykernel)",
   "language": "python",
   "name": "python3"
  },
  "language_info": {
   "codemirror_mode": {
    "name": "ipython",
    "version": 3
   },
   "file_extension": ".py",
   "mimetype": "text/x-python",
   "name": "python",
   "nbconvert_exporter": "python",
   "pygments_lexer": "ipython3",
   "version": "3.9.13"
  },
  "toc": {
   "base_numbering": 1,
   "nav_menu": {},
   "number_sections": true,
   "sideBar": true,
   "skip_h1_title": false,
   "title_cell": "Table of Contents",
   "title_sidebar": "Contents",
   "toc_cell": false,
   "toc_position": {},
   "toc_section_display": true,
   "toc_window_display": false
  },
  "varInspector": {
   "cols": {
    "lenName": 16,
    "lenType": 16,
    "lenVar": 40
   },
   "kernels_config": {
    "python": {
     "delete_cmd_postfix": "",
     "delete_cmd_prefix": "del ",
     "library": "var_list.py",
     "varRefreshCmd": "print(var_dic_list())"
    },
    "r": {
     "delete_cmd_postfix": ") ",
     "delete_cmd_prefix": "rm(",
     "library": "var_list.r",
     "varRefreshCmd": "cat(var_dic_list()) "
    }
   },
   "types_to_exclude": [
    "module",
    "function",
    "builtin_function_or_method",
    "instance",
    "_Feature"
   ],
   "window_display": false
  }
 },
 "nbformat": 4,
 "nbformat_minor": 1
}
